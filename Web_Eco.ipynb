{
 "cells": [
  {
   "cell_type": "markdown",
   "metadata": {},
   "source": [
    "# COMPGW02/M041: the Web Economics Project\n",
    "\n",
    "## Group 7:  Yuncan Zhang\n",
    "###  yuncan.zhang.16@ucl.ac.uk"
   ]
  },
  {
   "cell_type": "code",
   "execution_count": 875,
   "metadata": {
    "collapsed": false
   },
   "outputs": [],
   "source": [
    "import pandas as pd\n",
    "import matplotlib.pyplot as plt\n",
    "import numpy as np\n",
    "from sklearn.preprocessing import LabelEncoder\n",
    "%matplotlib inline\n",
    "import seaborn as sns\n",
    "import itertools"
   ]
  },
  {
   "cell_type": "code",
   "execution_count": 729,
   "metadata": {
    "collapsed": true
   },
   "outputs": [],
   "source": [
    "df_train_original = pd.read_csv('train.csv')\n",
    "df_validation_original = pd.read_csv('validation.csv')\n",
    "df_test_original = pd.read_csv('test.csv')"
   ]
  },
  {
   "cell_type": "markdown",
   "metadata": {},
   "source": [
    "## Data Exploration"
   ]
  },
  {
   "cell_type": "code",
   "execution_count": 730,
   "metadata": {
    "collapsed": false
   },
   "outputs": [],
   "source": [
    "#win = pd.DataFrame()\n",
    "#temp = pd.DataFrame()\n",
    "#stats = pd.DataFrame()\n",
    "#stats['Advertiser'] = np.sort(df_train_original.advertiser.unique())\n",
    "#stats['Impressions'] = df_train_original.groupby('advertiser').size().values\n",
    "#stats['Clicks'] = click.iloc[click.index.get_level_values('click') == 1].values\n",
    "#click = df_train_original.groupby('advertiser').click.value_counts() \n",
    "#temp['Cost'] = (cost_click['payprice']).tolist()\n",
    "\n",
    "#click_w = df_train_original.ix[( df_train_original['bidprice']>= df_train_original['payprice']) & (df_train_original['click']==1 )].groupby('advertiser')\n",
    "#click2 = df_train_original.ix[( df_train_original['bidprice']>= df_train_original['payprice'])].groupby('advertiser')\n",
    "#cost_click = click2.sum()[['click','payprice']]\n",
    "### Cost\n",
    "#stats['Cost'] = ((cost_click['payprice']/1000).round(1)).tolist()\n",
    "#stats['CTR'] = (((stats.Clicks / stats.Impressions) * 100).round(3)).astype(str) + '%'\n",
    "###eCPC\n",
    "#stats['eCPC'] = ((temp.Cost / (stats.Clicks*1000 )).round(2)).astype(str)\n",
    "###CPM\n",
    "#win['Cost'] = df_train_original.groupby('advertiser').payprice.sum().values\n",
    "#stats['CPM'] = (((win.Cost / stats.Impressions)).round(2)).astype(str)\n",
    "#stats"
   ]
  },
  {
   "cell_type": "code",
   "execution_count": null,
   "metadata": {
    "collapsed": false
   },
   "outputs": [],
   "source": []
  },
  {
   "cell_type": "markdown",
   "metadata": {},
   "source": [
    "### Basic Statistics"
   ]
  },
  {
   "cell_type": "code",
   "execution_count": 731,
   "metadata": {
    "collapsed": false
   },
   "outputs": [],
   "source": [
    "def basic_stats(df):\n",
    "    win = pd.DataFrame()\n",
    "    temp = pd.DataFrame()\n",
    "    stats = pd.DataFrame()\n",
    "    stats['Advertiser'] = np.sort(df.advertiser.unique())\n",
    "    stats['Impressions'] = df.groupby('advertiser').size().values    \n",
    "    click = df.groupby('advertiser').click.value_counts() \n",
    "    stats['Clicks'] = click.iloc[click.index.get_level_values('click') == 1].values\n",
    "    click_w = df.ix[( df['bidprice']>= df['payprice']) & (df['click']==1 )].groupby('advertiser')\n",
    "    click2 = df.ix[( df['bidprice']>= df['payprice'])].groupby('advertiser')\n",
    "    cost_click = click2.sum()[['click','payprice']]\n",
    "    temp['Cost'] = (cost_click['payprice']).tolist()\n",
    "    ### Cost\n",
    "    stats['Cost'] = ((cost_click['payprice']/1000).round(1)).tolist()\n",
    "    stats['CTR'] = (((stats.Clicks / stats.Impressions) * 100).round(3)).astype(str) + '%'\n",
    "    ###eCPC\n",
    "    stats['eCPC'] = ((temp.Cost / (stats.Clicks*1000 )).round(2)).astype(str)\n",
    "    ###CPM\n",
    "    win['Cost'] = df.groupby('advertiser').payprice.sum().values\n",
    "    stats['CPM'] = (((win.Cost / stats.Impressions)).round(2)).astype(str) \n",
    "    return stats"
   ]
  },
  {
   "cell_type": "code",
   "execution_count": 732,
   "metadata": {
    "collapsed": false
   },
   "outputs": [],
   "source": [
    "# train data statistics\n",
    "train_stat = basic_stats(df_train_original)"
   ]
  },
  {
   "cell_type": "code",
   "execution_count": 733,
   "metadata": {
    "collapsed": false
   },
   "outputs": [
    {
     "data": {
      "text/html": [
       "<div>\n",
       "<table border=\"1\" class=\"dataframe\">\n",
       "  <thead>\n",
       "    <tr style=\"text-align: right;\">\n",
       "      <th></th>\n",
       "      <th>Advertiser</th>\n",
       "      <th>Impressions</th>\n",
       "      <th>Clicks</th>\n",
       "      <th>Cost</th>\n",
       "      <th>CTR</th>\n",
       "      <th>eCPC</th>\n",
       "      <th>CPM</th>\n",
       "    </tr>\n",
       "  </thead>\n",
       "  <tbody>\n",
       "    <tr>\n",
       "      <th>0</th>\n",
       "      <td>1458</td>\n",
       "      <td>209628</td>\n",
       "      <td>188</td>\n",
       "      <td>14464.5</td>\n",
       "      <td>0.09%</td>\n",
       "      <td>76.94</td>\n",
       "      <td>69.0</td>\n",
       "    </tr>\n",
       "    <tr>\n",
       "      <th>1</th>\n",
       "      <td>2259</td>\n",
       "      <td>57202</td>\n",
       "      <td>12</td>\n",
       "      <td>5326.3</td>\n",
       "      <td>0.021%</td>\n",
       "      <td>443.86</td>\n",
       "      <td>93.11</td>\n",
       "    </tr>\n",
       "    <tr>\n",
       "      <th>2</th>\n",
       "      <td>2261</td>\n",
       "      <td>46950</td>\n",
       "      <td>14</td>\n",
       "      <td>4201.4</td>\n",
       "      <td>0.03%</td>\n",
       "      <td>300.1</td>\n",
       "      <td>89.49</td>\n",
       "    </tr>\n",
       "    <tr>\n",
       "      <th>3</th>\n",
       "      <td>2821</td>\n",
       "      <td>89946</td>\n",
       "      <td>45</td>\n",
       "      <td>8013.2</td>\n",
       "      <td>0.05%</td>\n",
       "      <td>178.07</td>\n",
       "      <td>89.09</td>\n",
       "    </tr>\n",
       "    <tr>\n",
       "      <th>4</th>\n",
       "      <td>2997</td>\n",
       "      <td>21177</td>\n",
       "      <td>105</td>\n",
       "      <td>1326.7</td>\n",
       "      <td>0.496%</td>\n",
       "      <td>12.63</td>\n",
       "      <td>62.65</td>\n",
       "    </tr>\n",
       "    <tr>\n",
       "      <th>5</th>\n",
       "      <td>3358</td>\n",
       "      <td>118525</td>\n",
       "      <td>101</td>\n",
       "      <td>9538.5</td>\n",
       "      <td>0.085%</td>\n",
       "      <td>94.44</td>\n",
       "      <td>92.43</td>\n",
       "    </tr>\n",
       "    <tr>\n",
       "      <th>6</th>\n",
       "      <td>3386</td>\n",
       "      <td>194269</td>\n",
       "      <td>141</td>\n",
       "      <td>14937.4</td>\n",
       "      <td>0.073%</td>\n",
       "      <td>105.94</td>\n",
       "      <td>76.89</td>\n",
       "    </tr>\n",
       "    <tr>\n",
       "      <th>7</th>\n",
       "      <td>3427</td>\n",
       "      <td>176243</td>\n",
       "      <td>131</td>\n",
       "      <td>12949.0</td>\n",
       "      <td>0.074%</td>\n",
       "      <td>98.85</td>\n",
       "      <td>81.15</td>\n",
       "    </tr>\n",
       "    <tr>\n",
       "      <th>8</th>\n",
       "      <td>3476</td>\n",
       "      <td>134635</td>\n",
       "      <td>64</td>\n",
       "      <td>10213.4</td>\n",
       "      <td>0.048%</td>\n",
       "      <td>159.58</td>\n",
       "      <td>79.24</td>\n",
       "    </tr>\n",
       "  </tbody>\n",
       "</table>\n",
       "</div>"
      ],
      "text/plain": [
       "   Advertiser  Impressions  Clicks     Cost     CTR    eCPC    CPM\n",
       "0        1458       209628     188  14464.5   0.09%   76.94   69.0\n",
       "1        2259        57202      12   5326.3  0.021%  443.86  93.11\n",
       "2        2261        46950      14   4201.4   0.03%   300.1  89.49\n",
       "3        2821        89946      45   8013.2   0.05%  178.07  89.09\n",
       "4        2997        21177     105   1326.7  0.496%   12.63  62.65\n",
       "5        3358       118525     101   9538.5  0.085%   94.44  92.43\n",
       "6        3386       194269     141  14937.4  0.073%  105.94  76.89\n",
       "7        3427       176243     131  12949.0  0.074%   98.85  81.15\n",
       "8        3476       134635      64  10213.4  0.048%  159.58  79.24"
      ]
     },
     "execution_count": 733,
     "metadata": {},
     "output_type": "execute_result"
    }
   ],
   "source": [
    "train_stat"
   ]
  },
  {
   "cell_type": "code",
   "execution_count": 771,
   "metadata": {
    "collapsed": true
   },
   "outputs": [],
   "source": [
    "train_stat.to_csv('train_stat.csv', header=True, index_label='advertiserid')"
   ]
  },
  {
   "cell_type": "markdown",
   "metadata": {
    "collapsed": true
   },
   "source": [
    "### Validation Data"
   ]
  },
  {
   "cell_type": "code",
   "execution_count": 734,
   "metadata": {
    "collapsed": true
   },
   "outputs": [],
   "source": [
    "val_stats = basic_stats(df_validation_original)"
   ]
  },
  {
   "cell_type": "code",
   "execution_count": 735,
   "metadata": {
    "collapsed": false
   },
   "outputs": [
    {
     "data": {
      "text/html": [
       "<div>\n",
       "<table border=\"1\" class=\"dataframe\">\n",
       "  <thead>\n",
       "    <tr style=\"text-align: right;\">\n",
       "      <th></th>\n",
       "      <th>Advertiser</th>\n",
       "      <th>Impressions</th>\n",
       "      <th>Clicks</th>\n",
       "      <th>Cost</th>\n",
       "      <th>CTR</th>\n",
       "      <th>eCPC</th>\n",
       "      <th>CPM</th>\n",
       "    </tr>\n",
       "  </thead>\n",
       "  <tbody>\n",
       "    <tr>\n",
       "      <th>0</th>\n",
       "      <td>1458</td>\n",
       "      <td>60025</td>\n",
       "      <td>50</td>\n",
       "      <td>4139.2</td>\n",
       "      <td>0.083%</td>\n",
       "      <td>82.78</td>\n",
       "      <td>68.96</td>\n",
       "    </tr>\n",
       "    <tr>\n",
       "      <th>1</th>\n",
       "      <td>2259</td>\n",
       "      <td>16419</td>\n",
       "      <td>11</td>\n",
       "      <td>1519.7</td>\n",
       "      <td>0.067%</td>\n",
       "      <td>138.15</td>\n",
       "      <td>92.55</td>\n",
       "    </tr>\n",
       "    <tr>\n",
       "      <th>2</th>\n",
       "      <td>2261</td>\n",
       "      <td>13370</td>\n",
       "      <td>5</td>\n",
       "      <td>1196.2</td>\n",
       "      <td>0.037%</td>\n",
       "      <td>239.25</td>\n",
       "      <td>89.47</td>\n",
       "    </tr>\n",
       "    <tr>\n",
       "      <th>3</th>\n",
       "      <td>2821</td>\n",
       "      <td>25632</td>\n",
       "      <td>16</td>\n",
       "      <td>2281.5</td>\n",
       "      <td>0.062%</td>\n",
       "      <td>142.59</td>\n",
       "      <td>89.01</td>\n",
       "    </tr>\n",
       "    <tr>\n",
       "      <th>4</th>\n",
       "      <td>2997</td>\n",
       "      <td>6034</td>\n",
       "      <td>26</td>\n",
       "      <td>387.4</td>\n",
       "      <td>0.431%</td>\n",
       "      <td>14.9</td>\n",
       "      <td>64.2</td>\n",
       "    </tr>\n",
       "    <tr>\n",
       "      <th>5</th>\n",
       "      <td>3358</td>\n",
       "      <td>33853</td>\n",
       "      <td>27</td>\n",
       "      <td>2724.4</td>\n",
       "      <td>0.08%</td>\n",
       "      <td>100.9</td>\n",
       "      <td>92.34</td>\n",
       "    </tr>\n",
       "    <tr>\n",
       "      <th>6</th>\n",
       "      <td>3386</td>\n",
       "      <td>55196</td>\n",
       "      <td>33</td>\n",
       "      <td>4255.5</td>\n",
       "      <td>0.06%</td>\n",
       "      <td>128.95</td>\n",
       "      <td>77.1</td>\n",
       "    </tr>\n",
       "    <tr>\n",
       "      <th>7</th>\n",
       "      <td>3427</td>\n",
       "      <td>50381</td>\n",
       "      <td>45</td>\n",
       "      <td>3691.8</td>\n",
       "      <td>0.089%</td>\n",
       "      <td>82.04</td>\n",
       "      <td>80.93</td>\n",
       "    </tr>\n",
       "    <tr>\n",
       "      <th>8</th>\n",
       "      <td>3476</td>\n",
       "      <td>38839</td>\n",
       "      <td>13</td>\n",
       "      <td>2936.4</td>\n",
       "      <td>0.033%</td>\n",
       "      <td>225.88</td>\n",
       "      <td>78.85</td>\n",
       "    </tr>\n",
       "  </tbody>\n",
       "</table>\n",
       "</div>"
      ],
      "text/plain": [
       "   Advertiser  Impressions  Clicks    Cost     CTR    eCPC    CPM\n",
       "0        1458        60025      50  4139.2  0.083%   82.78  68.96\n",
       "1        2259        16419      11  1519.7  0.067%  138.15  92.55\n",
       "2        2261        13370       5  1196.2  0.037%  239.25  89.47\n",
       "3        2821        25632      16  2281.5  0.062%  142.59  89.01\n",
       "4        2997         6034      26   387.4  0.431%    14.9   64.2\n",
       "5        3358        33853      27  2724.4   0.08%   100.9  92.34\n",
       "6        3386        55196      33  4255.5   0.06%  128.95   77.1\n",
       "7        3427        50381      45  3691.8  0.089%   82.04  80.93\n",
       "8        3476        38839      13  2936.4  0.033%  225.88  78.85"
      ]
     },
     "execution_count": 735,
     "metadata": {},
     "output_type": "execute_result"
    }
   ],
   "source": [
    "val_stats"
   ]
  },
  {
   "cell_type": "code",
   "execution_count": 772,
   "metadata": {
    "collapsed": true
   },
   "outputs": [],
   "source": [
    "val_stats.to_csv('val_stats.csv', header=True, index_label='advertiserid')"
   ]
  },
  {
   "cell_type": "markdown",
   "metadata": {},
   "source": [
    "## User Feedback Analysis"
   ]
  },
  {
   "cell_type": "markdown",
   "metadata": {},
   "source": [
    "### Analysis different features and CTR"
   ]
  },
  {
   "cell_type": "code",
   "execution_count": 736,
   "metadata": {
    "collapsed": false
   },
   "outputs": [
    {
     "data": {
      "text/plain": [
       "Index(['click', 'weekday', 'hour', 'bidid', 'logtype', 'userid', 'useragent',\n",
       "       'IP', 'region', 'city', 'adexchange', 'domain', 'url', 'urlid',\n",
       "       'slotid', 'slotwidth', 'slotheight', 'slotvisibility', 'slotformat',\n",
       "       'slotprice', 'creative', 'bidprice', 'payprice', 'keypage',\n",
       "       'advertiser', 'usertag'],\n",
       "      dtype='object')"
      ]
     },
     "execution_count": 736,
     "metadata": {},
     "output_type": "execute_result"
    }
   ],
   "source": [
    "df_train_original.columns"
   ]
  },
  {
   "cell_type": "markdown",
   "metadata": {},
   "source": [
    "### 1. Analyze CTR by weekday"
   ]
  },
  {
   "cell_type": "code",
   "execution_count": 737,
   "metadata": {
    "collapsed": false
   },
   "outputs": [],
   "source": [
    "\n",
    "weekday_CTR =pd.DataFrame()\n",
    "weekday_CTR['weekday'] = np.sort(df_train_original.weekday.unique())\n",
    "\n",
    "click = df_train_original.groupby(['advertiser','weekday']).click.value_counts()\n",
    "\n",
    "imp_ad1 = df_train_original.groupby('weekday').advertiser.value_counts()\n",
    "imp_ad2 = df_train_original.groupby('weekday').advertiser.value_counts()\n",
    "\n",
    "imp_ad1_cal = imp_ad1.iloc[imp_ad1.index.get_level_values('advertiser') == 1458].values \n",
    "imp_ad2_cal = imp_ad2.iloc[imp_ad2.index.get_level_values('advertiser') == 3358].values\n",
    "\n",
    "\n",
    "click_ad1 = click.iloc[click.index.get_level_values('advertiser') == 1458]\n",
    "click_ad2 = click.iloc[click.index.get_level_values('advertiser') == 3358]\n",
    "\n",
    "click_ad1_cal = click_ad1.iloc[click_ad1.index.get_level_values('click') == 1].values\n",
    "click_ad2_cal = click_ad2.iloc[click_ad2.index.get_level_values('click') == 1].values\n",
    "\n",
    "weekday_CTR['CTR_ad1'] = ((click_ad1_cal/ imp_ad1_cal) * 100).round(3)\n",
    "weekday_CTR['CTR_ad2'] = ((click_ad2_cal / imp_ad2_cal) * 100).round(3)"
   ]
  },
  {
   "cell_type": "code",
   "execution_count": 738,
   "metadata": {
    "collapsed": false
   },
   "outputs": [
    {
     "data": {
      "text/html": [
       "<div>\n",
       "<table border=\"1\" class=\"dataframe\">\n",
       "  <thead>\n",
       "    <tr style=\"text-align: right;\">\n",
       "      <th></th>\n",
       "      <th>weekday</th>\n",
       "      <th>CTR_ad1</th>\n",
       "      <th>CTR_ad2</th>\n",
       "    </tr>\n",
       "  </thead>\n",
       "  <tbody>\n",
       "    <tr>\n",
       "      <th>0</th>\n",
       "      <td>0</td>\n",
       "      <td>0.082</td>\n",
       "      <td>0.077</td>\n",
       "    </tr>\n",
       "    <tr>\n",
       "      <th>1</th>\n",
       "      <td>1</td>\n",
       "      <td>0.093</td>\n",
       "      <td>0.042</td>\n",
       "    </tr>\n",
       "    <tr>\n",
       "      <th>2</th>\n",
       "      <td>2</td>\n",
       "      <td>0.081</td>\n",
       "      <td>0.039</td>\n",
       "    </tr>\n",
       "    <tr>\n",
       "      <th>3</th>\n",
       "      <td>3</td>\n",
       "      <td>0.098</td>\n",
       "      <td>0.114</td>\n",
       "    </tr>\n",
       "    <tr>\n",
       "      <th>4</th>\n",
       "      <td>4</td>\n",
       "      <td>0.107</td>\n",
       "      <td>0.119</td>\n",
       "    </tr>\n",
       "    <tr>\n",
       "      <th>5</th>\n",
       "      <td>5</td>\n",
       "      <td>0.088</td>\n",
       "      <td>0.087</td>\n",
       "    </tr>\n",
       "    <tr>\n",
       "      <th>6</th>\n",
       "      <td>6</td>\n",
       "      <td>0.079</td>\n",
       "      <td>0.054</td>\n",
       "    </tr>\n",
       "  </tbody>\n",
       "</table>\n",
       "</div>"
      ],
      "text/plain": [
       "   weekday  CTR_ad1  CTR_ad2\n",
       "0        0    0.082    0.077\n",
       "1        1    0.093    0.042\n",
       "2        2    0.081    0.039\n",
       "3        3    0.098    0.114\n",
       "4        4    0.107    0.119\n",
       "5        5    0.088    0.087\n",
       "6        6    0.079    0.054"
      ]
     },
     "execution_count": 738,
     "metadata": {},
     "output_type": "execute_result"
    }
   ],
   "source": [
    "weekday_CTR"
   ]
  },
  {
   "cell_type": "code",
   "execution_count": 739,
   "metadata": {
    "collapsed": false
   },
   "outputs": [
    {
     "data": {
      "text/plain": [
       "(0.5, 7.5)"
      ]
     },
     "execution_count": 739,
     "metadata": {},
     "output_type": "execute_result"
    },
    {
     "data": {
      "image/png": "[encoded data removed]",
      "text/plain": [
       "<matplotlib.figure.Figure at 0x29b797d68>"
      ]
     },
     "metadata": {},
     "output_type": "display_data"
    }
   ],
   "source": [
    "# 1. Line plot of CTR per weekday for advertiser 1458 & 3358\n",
    "f, ax = plt.subplots(1)\n",
    "ax.plot(1 + weekday_CTR.weekday.values, weekday_CTR.CTR_ad1.values, label='1458')\n",
    "ax.plot(1 + weekday_CTR.weekday.values, weekday_CTR.CTR_ad2.values, label='3358')\n",
    "plt.legend()\n",
    "plt.ylabel('CTR')\n",
    "plt.xlabel('weekdays')\n",
    "ax.set_xlim(xmin = 0.5 , xmax = 7.5)"
   ]
  },
  {
   "cell_type": "markdown",
   "metadata": {},
   "source": [
    "### 2. Analyzing CTR by adexchange "
   ]
  },
  {
   "cell_type": "code",
   "execution_count": 740,
   "metadata": {
    "collapsed": false
   },
   "outputs": [],
   "source": [
    "adexchange_CTR =pd.DataFrame()\n",
    "adexchange_CTR['adexchange'] = np.sort(df_train_original.adexchange.unique())\n",
    "\n",
    "adexchange_click = df_train_original.groupby(['advertiser','adexchange']).click.value_counts()\n",
    "\n",
    "adexchange_imp_ad1 = df_train_original.groupby('adexchange').advertiser.value_counts()\n",
    "adexchange_imp_ad2 = df_train_original.groupby('adexchange').advertiser.value_counts()\n",
    "\n",
    "adexchange_imp_ad1_cal = adexchange_imp_ad1.iloc[adexchange_imp_ad1.index.get_level_values('advertiser') == 1458].values \n",
    "adexchange_imp_ad2_cal = adexchange_imp_ad2.iloc[adexchange_imp_ad2.index.get_level_values('advertiser') == 3358].values\n",
    "\n",
    "\n",
    "ad_click_ad1 = adexchange_click.iloc[adexchange_click.index.get_level_values('advertiser') == 1458]\n",
    "ad_click_ad2 = adexchange_click.iloc[adexchange_click.index.get_level_values('advertiser') == 3358]\n",
    "\n",
    "ad_click_ad1_cal = ad_click_ad1.iloc[ad_click_ad1.index.get_level_values('click') == 1].values\n",
    "ad_click_ad2_cal = click_ad2.iloc[ad_click_ad2.index.get_level_values('click') == 1].values\n",
    "adexchange_CTR = adexchange_CTR.drop([3,4])\n",
    "adexchange_CTR['CTR_ad1'] = ((ad_click_ad1_cal/ adexchange_imp_ad1_cal) * 100).round(3)\n",
    "adexchange_CTR['CTR_ad2'] = ((ad_click_ad1_cal / adexchange_imp_ad2_cal) * 100).round(3)"
   ]
  },
  {
   "cell_type": "code",
   "execution_count": 741,
   "metadata": {
    "collapsed": false
   },
   "outputs": [
    {
     "data": {
      "text/html": [
       "<div>\n",
       "<table border=\"1\" class=\"dataframe\">\n",
       "  <thead>\n",
       "    <tr style=\"text-align: right;\">\n",
       "      <th></th>\n",
       "      <th>adexchange</th>\n",
       "      <th>CTR_ad1</th>\n",
       "      <th>CTR_ad2</th>\n",
       "    </tr>\n",
       "  </thead>\n",
       "  <tbody>\n",
       "    <tr>\n",
       "      <th>0</th>\n",
       "      <td>1</td>\n",
       "      <td>0.088</td>\n",
       "      <td>0.100</td>\n",
       "    </tr>\n",
       "    <tr>\n",
       "      <th>1</th>\n",
       "      <td>2</td>\n",
       "      <td>0.082</td>\n",
       "      <td>0.140</td>\n",
       "    </tr>\n",
       "    <tr>\n",
       "      <th>2</th>\n",
       "      <td>3</td>\n",
       "      <td>0.098</td>\n",
       "      <td>0.372</td>\n",
       "    </tr>\n",
       "  </tbody>\n",
       "</table>\n",
       "</div>"
      ],
      "text/plain": [
       "  adexchange  CTR_ad1  CTR_ad2\n",
       "0          1    0.088    0.100\n",
       "1          2    0.082    0.140\n",
       "2          3    0.098    0.372"
      ]
     },
     "execution_count": 741,
     "metadata": {},
     "output_type": "execute_result"
    }
   ],
   "source": [
    "adexchange_CTR"
   ]
  },
  {
   "cell_type": "markdown",
   "metadata": {},
   "source": [
    "### 2 (1 ) Bar plot of CTR per adexchange for advertiser 1458 & 3358"
   ]
  },
  {
   "cell_type": "code",
   "execution_count": 776,
   "metadata": {
    "collapsed": false
   },
   "outputs": [
    {
     "data": {
      "text/plain": [
       "<matplotlib.text.Text at 0x1dce0cb00>"
      ]
     },
     "execution_count": 776,
     "metadata": {},
     "output_type": "execute_result"
    },
    {
     "data": {
      "image/png": "[encoded data removed]",
      "text/plain": [
       "<matplotlib.figure.Figure at 0x1dc49aeb8>"
      ]
     },
     "metadata": {},
     "output_type": "display_data"
    }
   ],
   "source": [
    "#Bar plot of CTR per adexchange for advertiser 1458 & 3358\n",
    "pic=plt.figure(figsize=(6,3))\n",
    "alpha_level = 0.55\n",
    "\n",
    "pic1 = pic.add_subplot(1,2,1)\n",
    "\n",
    "adexchange_CTR['CTR_ad1'].plot(kind='bar',color='blue', \n",
    "                  alpha=alpha_level)\n",
    "#pic1.set_xticklabels([\"1\", \"2\", \"3\"], rotation=0)\n",
    "plt.title(\" adexchange for advertiser 1458\")\n",
    "plt.ylabel('CTR')\n",
    "plt.xlabel('adexchange')\n",
    "\n",
    "\n",
    "pic2 = pic.add_subplot(1,2,2,sharey=pic1)   #share the same y axis with `pic1`\n",
    "\n",
    "adexchange_CTR['CTR_ad2'].plot(kind='bar',color='pink', alpha=alpha_level)\n",
    "#pic2.set_xticklabels([\"1\", \"2\",\"3\"], rotation=0)\n",
    "plt.title(\"adexchange for advertiser 3358\")\n",
    "plt.xlabel('adexchange')"
   ]
  },
  {
   "cell_type": "markdown",
   "metadata": {},
   "source": [
    "### 2 (2) Line plot of CTR per adexchange for advertiser 1458 & 3358"
   ]
  },
  {
   "cell_type": "code",
   "execution_count": 743,
   "metadata": {
    "collapsed": false
   },
   "outputs": [
    {
     "data": {
      "text/plain": [
       "(0, 3.5)"
      ]
     },
     "execution_count": 743,
     "metadata": {},
     "output_type": "execute_result"
    },
    {
     "data": {
      "image/png": "[encoded data removed]",
      "text/plain": [
       "<matplotlib.figure.Figure at 0x29b90d518>"
      ]
     },
     "metadata": {},
     "output_type": "display_data"
    }
   ],
   "source": [
    "\n",
    "f1, ax1 = plt.subplots(1)\n",
    "ax1.plot( adexchange_CTR.adexchange.values, adexchange_CTR.CTR_ad1.values, label='1458')\n",
    "ax1.plot(adexchange_CTR.adexchange.values, adexchange_CTR.CTR_ad2.values, label='3358')\n",
    "plt.legend()\n",
    "plt.ylabel('CTR')\n",
    "plt.xlabel('adexchange')\n",
    "ax.set_xlim(xmin = 0 , xmax = 3.5)"
   ]
  },
  {
   "cell_type": "code",
   "execution_count": 744,
   "metadata": {
    "collapsed": false
   },
   "outputs": [],
   "source": [
    "#double_graph=plt.figure(figsize=(18,6))\n",
    "#graph1 = double_graph.add_subplot(2,2,1)\n",
    "#f, ax = plt.subplots(1,2,1)\n",
    "#graph1.plot(1 + weekday_CTR.weekday.values, weekday_CTR.CTR_ad1.values, label='1458')\n",
    "#graph1.plot(1 + weekday_CTR.weekday.values, weekday_CTR.CTR_ad2.values, label='3358')\n",
    "#graph1.legend()\n",
    "#plt.ylabel('CTR')\n",
    "#plt.xlabel('weekdays')\n",
    "#graph1.set_xlim(xmin = 1 , xmax = 7)\n",
    "\n",
    "#f1, ax1 = plt.subplots(1,2,2)\n",
    "#graph2 = double_graph.add_subplot(2,2,2)\n",
    "#graph2.plot( adexchange_CTR.adexchange.values, adexchange_CTR.CTR_ad1.values, label='1458')\n",
    "#graph2.plot(adexchange_CTR.adexchange.values, adexchange_CTR.CTR_ad2.values, label='3358')\n",
    "#graph2.legend()\n",
    "#plt.ylabel('CTR')\n",
    "#plt.xlabel('adexchange')\n",
    "#graph2.set_xlim(xmin = 1 , xmax = 3)\n",
    "\n",
    "#graph2 = double_graph.add_subplot(2,2,3)\n"
   ]
  },
  {
   "cell_type": "code",
   "execution_count": 745,
   "metadata": {
    "collapsed": false
   },
   "outputs": [],
   "source": [
    "### 3. line plot of CTR per browser for advertiser 1458 & 3358\n",
    "\n",
    "#df_1458 = df_train_original.ix[(df_train_original['advertiser']==1458)]\n",
    "#df_3358 = df_train_original.ix[(df_train_original['advertiser']==3358)]\n",
    "\n",
    "#u1 = df_1458.groupby(df_train_original['useragent'])\n",
    "#u2 = df_3358.groupby(df_train_original['useragent'])"
   ]
  },
  {
   "cell_type": "code",
   "execution_count": 746,
   "metadata": {
    "collapsed": false
   },
   "outputs": [],
   "source": [
    "#df_train_original.columns"
   ]
  },
  {
   "cell_type": "code",
   "execution_count": 749,
   "metadata": {
    "collapsed": false
   },
   "outputs": [
    {
     "data": {
      "text/plain": [
       "(1, 3)"
      ]
     },
     "execution_count": 749,
     "metadata": {},
     "output_type": "execute_result"
    },
    {
     "data": {
      "image/png": "[encoded data removed]",
      "text/plain": [
       "<matplotlib.figure.Figure at 0x29f9edf98>"
      ]
     },
     "metadata": {},
     "output_type": "display_data"
    }
   ],
   "source": [
    "double_graph=plt.figure(figsize=(6,12))\n",
    "graph1 = double_graph.add_subplot(3,1,1)\n",
    "graph1.plot(1 + weekday_CTR.weekday.values, weekday_CTR.CTR_ad1.values, label='1458')\n",
    "graph1.plot(1 + weekday_CTR.weekday.values, weekday_CTR.CTR_ad2.values, label='3358')\n",
    "graph1.legend()\n",
    "plt.ylabel('CTR')\n",
    "plt.xlabel('weekdays')\n",
    "graph1.set_xlim(xmin = 1 , xmax = 7)\n",
    "\n",
    "graph2 = double_graph.add_subplot(3,1,2)\n",
    "graph2.plot( adexchange_CTR.adexchange.values, adexchange_CTR.CTR_ad1.values, label='1458')\n",
    "graph2.plot(adexchange_CTR.adexchange.values, adexchange_CTR.CTR_ad2.values, label='3358')\n",
    "graph2.legend()\n",
    "plt.ylabel('CTR')\n",
    "plt.xlabel('adexchange')\n",
    "graph2.set_xlim(xmin = 1 , xmax = 3)"
   ]
  },
  {
   "cell_type": "markdown",
   "metadata": {},
   "source": [
    "### 3. region CTR"
   ]
  },
  {
   "cell_type": "code",
   "execution_count": 747,
   "metadata": {
    "collapsed": true
   },
   "outputs": [],
   "source": [
    "CTR_for_region = pd.DataFrame()\n",
    "CTR_for_region['region'] = np.sort(df_train_original.region.unique())\n",
    "## Click\n",
    "click = df_train_original.groupby(['advertiser','region']).click.value_counts()\n",
    "\n",
    "click_1458_re = click.iloc[click.index.get_level_values('advertiser') == 1458]\n",
    "click_1458_re.iloc[click_1458_re.index.get_level_values('click') == 0]=0\n",
    "click_1458_re_cal = click_1458_re.groupby(level='region').sum().values\n",
    "\n",
    "click_3358_re = click.iloc[click.index.get_level_values('advertiser') == 1458]\n",
    "click_3358_re.iloc[click_3358_re.index.get_level_values('click') == 0]=0\n",
    "click_3358_re_cal = click_3358_re.groupby(level='region').sum().values\n",
    "\n",
    "##Impression\n",
    "imp_all = df_train_original.groupby('region').advertiser.value_counts()\n",
    "imp_cal_1458_re = imp_all.iloc[imp_all.index.get_level_values('advertiser') == 1458].values \n",
    "imp_cal_3358_re = imp_all.iloc[imp_all.index.get_level_values('advertiser') == 3358].values\n",
    "\n",
    "### CTR\n",
    "CTR_for_region['CTR_1458'] = ((click_1458_re_cal / imp_cal_1458_re) * 100).round(3)\n",
    "CTR_for_region['CTR_3358'] = ((click_3358_re_cal / imp_cal_3358_re) * 100).round(3)"
   ]
  },
  {
   "cell_type": "code",
   "execution_count": 918,
   "metadata": {
    "collapsed": false
   },
   "outputs": [],
   "source": [
    "# CTR_for_region"
   ]
  },
  {
   "cell_type": "markdown",
   "metadata": {},
   "source": [
    "### 3. (1) Boxplot of CTR per region for advertiser 1458 & 3358"
   ]
  },
  {
   "cell_type": "code",
   "execution_count": null,
   "metadata": {
    "collapsed": true
   },
   "outputs": [],
   "source": [
    "pic_cpc=plt.figure(figsize=(8,4))\n",
    "alpha_level = 0.55\n",
    "\n",
    "pic1_cpc = pic_cpc.add_subplot(1,2,1)\n",
    "\n",
    "CPC_w['eCPC_ad1'].plot(kind='bar', color='blue', \n",
    "                  alpha=alpha_level)\n",
    "pic1_cpc.set_xticklabels([\"1\", \"2\", \"3\",\"4\",\"5\",\"6\"], rotation=0)\n",
    "plt.title(\" eCPC of weekday for advertiser 1458\")\n",
    "plt.ylabel('eCPC')\n",
    "plt.xlabel('weekday')\n",
    "\n",
    "\n",
    "pic2_cpc = pic_cpc.add_subplot(1,2,2,sharey=pic1_cpc)\n",
    "\n",
    "CPC_w['eCPC_ad2'].plot(kind='bar', color='pink', \n",
    "                  alpha=alpha_level)\n",
    "pic2_cpc.set_xticklabels([\"1\", \"2\", \"3\",\"4\",\"5\",\"6\"], rotation=0)\n",
    "plt.title(\" eCPC of weekday for advertiser 3358\")\n",
    "plt.ylabel('eCPC')\n",
    "plt.xlabel('weekday')"
   ]
  },
  {
   "cell_type": "code",
   "execution_count": 917,
   "metadata": {
    "collapsed": false
   },
   "outputs": [
    {
     "data": {
      "text/plain": [
       "<matplotlib.axes._subplots.AxesSubplot at 0x2f50437f0>"
      ]
     },
     "execution_count": 917,
     "metadata": {},
     "output_type": "execute_result"
    },
    {
     "data": {
      "image/png": "[encoded data removed]",
      "text/plain": [
       "<matplotlib.figure.Figure at 0x1d4740ba8>"
      ]
     },
     "metadata": {},
     "output_type": "display_data"
    },
    {
     "data": {
      "image/png": "[encoded data removed]",
      "text/plain": [
       "<matplotlib.figure.Figure at 0x2fe29f978>"
      ]
     },
     "metadata": {},
     "output_type": "display_data"
    }
   ],
   "source": [
    "a1=CTR_for_region[['region','CTR_1458']]\n",
    "ax1 = a1.boxplot(by='region', return_type='axes',figsize=(9,4))\n",
    "a2 = CTR_for_region[['region','CTR_3358']]\n",
    "a2.boxplot(by='region',figsize=(9,4))"
   ]
  },
  {
   "cell_type": "markdown",
   "metadata": {},
   "source": [
    "### 3. (2) Line plot for region"
   ]
  },
  {
   "cell_type": "code",
   "execution_count": 752,
   "metadata": {
    "collapsed": false
   },
   "outputs": [
    {
     "data": {
      "text/plain": [
       "<matplotlib.text.Text at 0x2a4cd8080>"
      ]
     },
     "execution_count": 752,
     "metadata": {},
     "output_type": "execute_result"
    },
    {
     "data": {
      "image/png": "[encoded data removed]",
      "text/plain": [
       "<matplotlib.figure.Figure at 0x2f5bb7470>"
      ]
     },
     "metadata": {},
     "output_type": "display_data"
    }
   ],
   "source": [
    "double_graph=plt.figure(figsize=(8,6))\n",
    "\n",
    "graph3 = double_graph.add_subplot(1,1,1)\n",
    "graph3.plot( CTR_for_region.region.values, CTR_for_region.CTR_1458.values, label='1458')\n",
    "graph3.plot(CTR_for_region.region.values, CTR_for_region.CTR_3358.values, label='3358')\n",
    "graph3.legend()\n",
    "plt.ylabel('CTR')\n",
    "plt.xlabel('region')"
   ]
  },
  {
   "cell_type": "markdown",
   "metadata": {},
   "source": [
    "## Market price for bidding behaviour"
   ]
  },
  {
   "cell_type": "markdown",
   "metadata": {},
   "source": [
    "### 4. Price and weekday"
   ]
  },
  {
   "cell_type": "code",
   "execution_count": 941,
   "metadata": {
    "collapsed": false
   },
   "outputs": [],
   "source": [
    "price_weekday = pd.DataFrame()\n",
    "price_weekday['weekday'] = np.sort(df_train_original.weekday.unique())\n",
    "\n",
    "price_ad1 = df_train_original.ix[(df_train_original['advertiser']==1458)]['payprice'].groupby(df_train_original['weekday'])\n",
    "price_ad2 = df_train_original.ix[(df_train_original['advertiser']==3358)]['payprice'].groupby(df_train_original['weekday'])\n",
    "\n",
    "price_weekday['Price_ad1'] = price_ad1.mean()\n",
    "price_weekday['Price_ad2'] = price_ad2.mean()"
   ]
  },
  {
   "cell_type": "code",
   "execution_count": 943,
   "metadata": {
    "collapsed": false
   },
   "outputs": [
    {
     "data": {
      "text/html": [
       "<div>\n",
       "<table border=\"1\" class=\"dataframe\">\n",
       "  <thead>\n",
       "    <tr style=\"text-align: right;\">\n",
       "      <th></th>\n",
       "      <th>weekday</th>\n",
       "      <th>Price_ad1</th>\n",
       "      <th>Price_ad2</th>\n",
       "    </tr>\n",
       "  </thead>\n",
       "  <tbody>\n",
       "    <tr>\n",
       "      <th>0</th>\n",
       "      <td>0</td>\n",
       "      <td>63.601872</td>\n",
       "      <td>89.218535</td>\n",
       "    </tr>\n",
       "    <tr>\n",
       "      <th>1</th>\n",
       "      <td>1</td>\n",
       "      <td>73.452977</td>\n",
       "      <td>92.922221</td>\n",
       "    </tr>\n",
       "    <tr>\n",
       "      <th>2</th>\n",
       "      <td>2</td>\n",
       "      <td>71.695172</td>\n",
       "      <td>96.803638</td>\n",
       "    </tr>\n",
       "    <tr>\n",
       "      <th>3</th>\n",
       "      <td>3</td>\n",
       "      <td>69.603626</td>\n",
       "      <td>86.977169</td>\n",
       "    </tr>\n",
       "    <tr>\n",
       "      <th>4</th>\n",
       "      <td>4</td>\n",
       "      <td>69.684635</td>\n",
       "      <td>97.413255</td>\n",
       "    </tr>\n",
       "    <tr>\n",
       "      <th>5</th>\n",
       "      <td>5</td>\n",
       "      <td>67.889437</td>\n",
       "      <td>97.349354</td>\n",
       "    </tr>\n",
       "    <tr>\n",
       "      <th>6</th>\n",
       "      <td>6</td>\n",
       "      <td>68.072630</td>\n",
       "      <td>90.072894</td>\n",
       "    </tr>\n",
       "  </tbody>\n",
       "</table>\n",
       "</div>"
      ],
      "text/plain": [
       "   weekday  Price_ad1  Price_ad2\n",
       "0        0  63.601872  89.218535\n",
       "1        1  73.452977  92.922221\n",
       "2        2  71.695172  96.803638\n",
       "3        3  69.603626  86.977169\n",
       "4        4  69.684635  97.413255\n",
       "5        5  67.889437  97.349354\n",
       "6        6  68.072630  90.072894"
      ]
     },
     "execution_count": 943,
     "metadata": {},
     "output_type": "execute_result"
    }
   ],
   "source": [
    "price_weekday"
   ]
  },
  {
   "cell_type": "markdown",
   "metadata": {},
   "source": [
    "### 5. Price against Region"
   ]
  },
  {
   "cell_type": "code",
   "execution_count": 982,
   "metadata": {
    "collapsed": false
   },
   "outputs": [],
   "source": [
    "price_region = pd.DataFrame()\n",
    "price_region['region'] = np.sort(df_train_original.region.unique())\n",
    "\n",
    "price_ad1_region = df_train_original.ix[(df_train_original['advertiser']==1458)]['payprice'].groupby(df_train_original['region'])\n",
    "price_ad2_region = df_train_original.ix[(df_train_original['advertiser']==3358)]['payprice'].groupby(df_train_original['region'])\n",
    "\n",
    "price_region['Price_ad1'] = price_ad1_region.mean()\n",
    "price_region['Price_ad2'] = price_ad2_region.mean()"
   ]
  },
  {
   "cell_type": "code",
   "execution_count": 997,
   "metadata": {
    "collapsed": false
   },
   "outputs": [],
   "source": [
    "#price_region"
   ]
  },
  {
   "cell_type": "markdown",
   "metadata": {},
   "source": [
    "### 6.  Price against Hour"
   ]
  },
  {
   "cell_type": "code",
   "execution_count": 970,
   "metadata": {
    "collapsed": false
   },
   "outputs": [
    {
     "data": {
      "text/html": [
       "<div>\n",
       "<table border=\"1\" class=\"dataframe\">\n",
       "  <thead>\n",
       "    <tr style=\"text-align: right;\">\n",
       "      <th></th>\n",
       "      <th>hour</th>\n",
       "      <th>Price_ad1</th>\n",
       "      <th>Price_ad2</th>\n",
       "    </tr>\n",
       "  </thead>\n",
       "  <tbody>\n",
       "    <tr>\n",
       "      <th>0</th>\n",
       "      <td>0</td>\n",
       "      <td>65.872601</td>\n",
       "      <td>111.424014</td>\n",
       "    </tr>\n",
       "    <tr>\n",
       "      <th>1</th>\n",
       "      <td>1</td>\n",
       "      <td>63.021043</td>\n",
       "      <td>80.575093</td>\n",
       "    </tr>\n",
       "    <tr>\n",
       "      <th>2</th>\n",
       "      <td>2</td>\n",
       "      <td>64.873218</td>\n",
       "      <td>73.732233</td>\n",
       "    </tr>\n",
       "    <tr>\n",
       "      <th>3</th>\n",
       "      <td>3</td>\n",
       "      <td>69.587758</td>\n",
       "      <td>71.337568</td>\n",
       "    </tr>\n",
       "    <tr>\n",
       "      <th>4</th>\n",
       "      <td>4</td>\n",
       "      <td>66.209795</td>\n",
       "      <td>73.520629</td>\n",
       "    </tr>\n",
       "    <tr>\n",
       "      <th>5</th>\n",
       "      <td>5</td>\n",
       "      <td>71.290684</td>\n",
       "      <td>72.599537</td>\n",
       "    </tr>\n",
       "    <tr>\n",
       "      <th>6</th>\n",
       "      <td>6</td>\n",
       "      <td>64.968348</td>\n",
       "      <td>100.954914</td>\n",
       "    </tr>\n",
       "    <tr>\n",
       "      <th>7</th>\n",
       "      <td>7</td>\n",
       "      <td>68.919923</td>\n",
       "      <td>77.513656</td>\n",
       "    </tr>\n",
       "    <tr>\n",
       "      <th>8</th>\n",
       "      <td>8</td>\n",
       "      <td>71.727546</td>\n",
       "      <td>81.570335</td>\n",
       "    </tr>\n",
       "    <tr>\n",
       "      <th>9</th>\n",
       "      <td>9</td>\n",
       "      <td>68.093714</td>\n",
       "      <td>78.610778</td>\n",
       "    </tr>\n",
       "    <tr>\n",
       "      <th>10</th>\n",
       "      <td>10</td>\n",
       "      <td>71.215028</td>\n",
       "      <td>87.330075</td>\n",
       "    </tr>\n",
       "    <tr>\n",
       "      <th>11</th>\n",
       "      <td>11</td>\n",
       "      <td>72.637046</td>\n",
       "      <td>86.617955</td>\n",
       "    </tr>\n",
       "    <tr>\n",
       "      <th>12</th>\n",
       "      <td>12</td>\n",
       "      <td>72.198553</td>\n",
       "      <td>85.978405</td>\n",
       "    </tr>\n",
       "    <tr>\n",
       "      <th>13</th>\n",
       "      <td>13</td>\n",
       "      <td>68.543321</td>\n",
       "      <td>86.633193</td>\n",
       "    </tr>\n",
       "    <tr>\n",
       "      <th>14</th>\n",
       "      <td>14</td>\n",
       "      <td>69.708515</td>\n",
       "      <td>83.676142</td>\n",
       "    </tr>\n",
       "    <tr>\n",
       "      <th>15</th>\n",
       "      <td>15</td>\n",
       "      <td>69.512239</td>\n",
       "      <td>89.329606</td>\n",
       "    </tr>\n",
       "    <tr>\n",
       "      <th>16</th>\n",
       "      <td>16</td>\n",
       "      <td>68.589591</td>\n",
       "      <td>89.438304</td>\n",
       "    </tr>\n",
       "    <tr>\n",
       "      <th>17</th>\n",
       "      <td>17</td>\n",
       "      <td>69.789873</td>\n",
       "      <td>90.272968</td>\n",
       "    </tr>\n",
       "    <tr>\n",
       "      <th>18</th>\n",
       "      <td>18</td>\n",
       "      <td>69.434196</td>\n",
       "      <td>89.310798</td>\n",
       "    </tr>\n",
       "    <tr>\n",
       "      <th>19</th>\n",
       "      <td>19</td>\n",
       "      <td>69.410646</td>\n",
       "      <td>92.920716</td>\n",
       "    </tr>\n",
       "    <tr>\n",
       "      <th>20</th>\n",
       "      <td>20</td>\n",
       "      <td>70.008449</td>\n",
       "      <td>91.739470</td>\n",
       "    </tr>\n",
       "    <tr>\n",
       "      <th>21</th>\n",
       "      <td>21</td>\n",
       "      <td>68.311155</td>\n",
       "      <td>84.598425</td>\n",
       "    </tr>\n",
       "    <tr>\n",
       "      <th>22</th>\n",
       "      <td>22</td>\n",
       "      <td>65.238978</td>\n",
       "      <td>92.941531</td>\n",
       "    </tr>\n",
       "    <tr>\n",
       "      <th>23</th>\n",
       "      <td>23</td>\n",
       "      <td>67.199202</td>\n",
       "      <td>70.265001</td>\n",
       "    </tr>\n",
       "  </tbody>\n",
       "</table>\n",
       "</div>"
      ],
      "text/plain": [
       "    hour  Price_ad1   Price_ad2\n",
       "0      0  65.872601  111.424014\n",
       "1      1  63.021043   80.575093\n",
       "2      2  64.873218   73.732233\n",
       "3      3  69.587758   71.337568\n",
       "4      4  66.209795   73.520629\n",
       "5      5  71.290684   72.599537\n",
       "6      6  64.968348  100.954914\n",
       "7      7  68.919923   77.513656\n",
       "8      8  71.727546   81.570335\n",
       "9      9  68.093714   78.610778\n",
       "10    10  71.215028   87.330075\n",
       "11    11  72.637046   86.617955\n",
       "12    12  72.198553   85.978405\n",
       "13    13  68.543321   86.633193\n",
       "14    14  69.708515   83.676142\n",
       "15    15  69.512239   89.329606\n",
       "16    16  68.589591   89.438304\n",
       "17    17  69.789873   90.272968\n",
       "18    18  69.434196   89.310798\n",
       "19    19  69.410646   92.920716\n",
       "20    20  70.008449   91.739470\n",
       "21    21  68.311155   84.598425\n",
       "22    22  65.238978   92.941531\n",
       "23    23  67.199202   70.265001"
      ]
     },
     "execution_count": 970,
     "metadata": {},
     "output_type": "execute_result"
    }
   ],
   "source": [
    "price_hour = pd.DataFrame()\n",
    "price_hour['hour'] = np.sort(df_train_original.hour.unique())\n",
    "\n",
    "price_ad1_hour = df_train_original.ix[(df_train_original['advertiser']==1458)]['payprice'].groupby(df_train_original['hour'])\n",
    "price_ad2_hour = df_train_original.ix[(df_train_original['advertiser']==3358)]['payprice'].groupby(df_train_original['hour'])\n",
    "\n",
    "price_hour['Price_ad1'] = price_ad1_hour.mean()\n",
    "price_hour['Price_ad2'] = price_ad2_hour.mean()\n",
    "price_hour"
   ]
  },
  {
   "cell_type": "code",
   "execution_count": 990,
   "metadata": {
    "collapsed": false
   },
   "outputs": [
    {
     "data": {
      "text/plain": [
       "(0, 23)"
      ]
     },
     "execution_count": 990,
     "metadata": {},
     "output_type": "execute_result"
    },
    {
     "data": {
      "image/png": "[encoded data removed]",
      "text/plain": [
       "<matplotlib.figure.Figure at 0x261a67048>"
      ]
     },
     "metadata": {},
     "output_type": "display_data"
    }
   ],
   "source": [
    "price_pic =plt.figure(figsize=(5,7))\n",
    "graph1_price = price_pic.add_subplot(2,1,1)\n",
    "graph1_price.plot(1 + price_weekday.weekday.values, price_weekday.Price_ad1.values, label='1458')\n",
    "graph1_price.plot(1 + price_weekday.weekday.values, price_weekday.Price_ad2.values, label='3358')\n",
    "graph1_price.legend()\n",
    "plt.ylabel('Price')\n",
    "plt.xlabel('weekdays')\n",
    "graph1_price.set_xlim(xmin = 1 , xmax = 7)\n",
    "\n",
    "# graph2_price = price_pic.add_subplot(3,1,2)\n",
    "# graph2_price.plot( price_region.region.values, price_region.Price_ad1.values, label='1458')\n",
    "# graph2_price.plot(price_region.region.values, price_region.Price_ad2.values, label='3358')\n",
    "# graph2_price.legend()\n",
    "# plt.ylabel('Price')\n",
    "# plt.xlabel('adexchange')\n",
    "\n",
    "graph3_price = price_pic.add_subplot(2,1,2)\n",
    "graph3_price.plot( price_hour.hour.values, price_hour.Price_ad1.values, label='1458')\n",
    "graph3_price.plot(price_hour.hour.values, price_hour.Price_ad2.values, label='3358')\n",
    "graph3_price.legend()\n",
    "plt.ylabel('Price')\n",
    "plt.xlabel('hour')\n",
    "graph3_price.set_xlim(xmin = 0 , xmax = 23)"
   ]
  },
  {
   "cell_type": "code",
   "execution_count": null,
   "metadata": {
    "collapsed": true
   },
   "outputs": [],
   "source": []
  },
  {
   "cell_type": "markdown",
   "metadata": {},
   "source": [
    "### 7. eCPC for weekday"
   ]
  },
  {
   "cell_type": "code",
   "execution_count": 842,
   "metadata": {
    "collapsed": false
   },
   "outputs": [],
   "source": [
    "CPC_w = pd.DataFrame()\n",
    "CPC_w['weekday'] = np.sort(df_train_original.weekday.unique())\n",
    "\n",
    "click = df_train_original.ix[(df_train_original['click']==1)]\n",
    "\n",
    "click_ad1_cpc = click.ix[(df_train_original['advertiser']==1458)]\n",
    "click_ad2_cpc = click.ix[(df_train_original['advertiser']==3358)]\n",
    "\n",
    "\n",
    "click_ad1_cal_cpc = click_ad1_cpc['click'].groupby(df_train_original['weekday'])\n",
    "click_ad2_cal_cpc = click_ad2_cpc['click'].groupby(df_train_original['weekday'])\n",
    "\n",
    "cost_cal_ad1 = df_train_original['payprice'].groupby(df_train_original['weekday'].ix[(df_train_original['advertiser']==1458)])\n",
    "cost_cal_ad2 = df_train_original['payprice'].groupby(df_train_original['weekday'].ix[(df_train_original['advertiser']==3358)])\n",
    "\n",
    "\n",
    "eCPC_ad1 = (cost_cal_ad1.sum()/click_ad1_cal_cpc.sum())/1000\n",
    "eCPC_ad2 = (cost_cal_ad2.sum()/click_ad2_cal_cpc.sum())/1000\n",
    "\n",
    "\n",
    "CPC_w['eCPC_ad1'] = eCPC_ad1\n",
    "CPC_w['eCPC_ad2'] = eCPC_ad2"
   ]
  },
  {
   "cell_type": "code",
   "execution_count": 843,
   "metadata": {
    "collapsed": false
   },
   "outputs": [
    {
     "data": {
      "text/html": [
       "<div>\n",
       "<table border=\"1\" class=\"dataframe\">\n",
       "  <thead>\n",
       "    <tr style=\"text-align: right;\">\n",
       "      <th></th>\n",
       "      <th>weekday</th>\n",
       "      <th>eCPC_ad1</th>\n",
       "      <th>eCPC_ad2</th>\n",
       "    </tr>\n",
       "  </thead>\n",
       "  <tbody>\n",
       "    <tr>\n",
       "      <th>0</th>\n",
       "      <td>0</td>\n",
       "      <td>77.243296</td>\n",
       "      <td>115.332800</td>\n",
       "    </tr>\n",
       "    <tr>\n",
       "      <th>1</th>\n",
       "      <td>1</td>\n",
       "      <td>78.764192</td>\n",
       "      <td>222.214200</td>\n",
       "    </tr>\n",
       "    <tr>\n",
       "      <th>2</th>\n",
       "      <td>2</td>\n",
       "      <td>88.905130</td>\n",
       "      <td>246.123250</td>\n",
       "    </tr>\n",
       "    <tr>\n",
       "      <th>3</th>\n",
       "      <td>3</td>\n",
       "      <td>71.094103</td>\n",
       "      <td>76.085694</td>\n",
       "    </tr>\n",
       "    <tr>\n",
       "      <th>4</th>\n",
       "      <td>4</td>\n",
       "      <td>65.039719</td>\n",
       "      <td>82.155263</td>\n",
       "    </tr>\n",
       "    <tr>\n",
       "      <th>5</th>\n",
       "      <td>5</td>\n",
       "      <td>76.981593</td>\n",
       "      <td>111.907950</td>\n",
       "    </tr>\n",
       "    <tr>\n",
       "      <th>6</th>\n",
       "      <td>6</td>\n",
       "      <td>86.032458</td>\n",
       "      <td>166.815000</td>\n",
       "    </tr>\n",
       "  </tbody>\n",
       "</table>\n",
       "</div>"
      ],
      "text/plain": [
       "   weekday   eCPC_ad1    eCPC_ad2\n",
       "0        0  77.243296  115.332800\n",
       "1        1  78.764192  222.214200\n",
       "2        2  88.905130  246.123250\n",
       "3        3  71.094103   76.085694\n",
       "4        4  65.039719   82.155263\n",
       "5        5  76.981593  111.907950\n",
       "6        6  86.032458  166.815000"
      ]
     },
     "execution_count": 843,
     "metadata": {},
     "output_type": "execute_result"
    }
   ],
   "source": [
    "CPC_w"
   ]
  },
  {
   "cell_type": "code",
   "execution_count": 925,
   "metadata": {
    "collapsed": false
   },
   "outputs": [
    {
     "data": {
      "text/plain": [
       "<matplotlib.text.Text at 0x3255bcac8>"
      ]
     },
     "execution_count": 925,
     "metadata": {},
     "output_type": "execute_result"
    },
    {
     "data": {
      "image/png": "[encoded data removed]",
      "text/plain": [
       "<matplotlib.figure.Figure at 0x3255539e8>"
      ]
     },
     "metadata": {},
     "output_type": "display_data"
    }
   ],
   "source": [
    "pic_cpc=plt.figure(figsize=(5,9))\n",
    "alpha_level = 0.55\n",
    "\n",
    "pic1_cpc = pic_cpc.add_subplot(2,1,1)\n",
    "\n",
    "CPC_w['eCPC_ad1'].plot(kind='bar', color='blue', \n",
    "                  alpha=alpha_level)\n",
    "pic1_cpc.set_xticklabels([\"1\", \"2\", \"3\",\"4\",\"5\",\"6\",\"7\"], rotation=0)\n",
    "plt.title(\" eCPC of weekday for advertiser 1458\")\n",
    "plt.ylabel('eCPC')\n",
    "plt.xlabel('weekday')\n",
    "\n",
    "\n",
    "pic2_cpc = pic_cpc.add_subplot(2,1,2)\n",
    "\n",
    "CPC_w['eCPC_ad2'].plot(kind='bar', color='pink', \n",
    "                  alpha=alpha_level)\n",
    "pic2_cpc.set_xticklabels([\"1\", \"2\", \"3\",\"4\",\"5\",\"6\",\"7\"], rotation=0)\n",
    "plt.title(\" eCPC of weekday for advertiser 3358\")\n",
    "plt.ylabel('eCPC')\n",
    "plt.xlabel('weekday')"
   ]
  },
  {
   "cell_type": "markdown",
   "metadata": {},
   "source": [
    "### 8. eCPC for region"
   ]
  },
  {
   "cell_type": "code",
   "execution_count": 867,
   "metadata": {
    "collapsed": true
   },
   "outputs": [],
   "source": [
    "CPC_re = pd.DataFrame()\n",
    "CPC_re['hour'] = np.sort(df_train_original.hour.unique())\n",
    "\n",
    "click_re = df_train_original.ix[(df_train_original['click']==1)]\n",
    "\n",
    "click_ad1_cpc_re = click_re.ix[(df_train_original['advertiser']==1458)]\n",
    "click_ad2_cpc_re = click_re.ix[(df_train_original['advertiser']==3358)]\n",
    "\n",
    "\n",
    "click_ad1_cal_cpcRe = click_ad1_cpc_re['click'].groupby(df_train_original['hour'])\n",
    "click_ad2_cal_cpcRe = click_ad2_cpc_re['click'].groupby(df_train_original['hour'])\n",
    "\n",
    "cost_cal_ad1_re = df_train_original['payprice'].groupby(df_train_original['hour'].ix[(df_train_original['advertiser']==1458)])\n",
    "cost_cal_ad2_re = df_train_original['payprice'].groupby(df_train_original['hour'].ix[(df_train_original['advertiser']==3358)])\n",
    "\n",
    "\n",
    "eCPC_ad1_re = (cost_cal_ad1_re.sum()/click_ad1_cal_cpcRe.sum())/1000\n",
    "eCPC_ad2_re = (cost_cal_ad2_re.sum()/click_ad2_cal_cpcRe.sum())/1000\n",
    "\n",
    "\n",
    "CPC_re['eCPC_ad1'] = eCPC_ad1_re\n",
    "CPC_re['eCPC_ad2'] = eCPC_ad2_re"
   ]
  },
  {
   "cell_type": "code",
   "execution_count": 868,
   "metadata": {
    "collapsed": false
   },
   "outputs": [
    {
     "data": {
      "text/html": [
       "<div>\n",
       "<table border=\"1\" class=\"dataframe\">\n",
       "  <thead>\n",
       "    <tr style=\"text-align: right;\">\n",
       "      <th></th>\n",
       "      <th>hour</th>\n",
       "      <th>eCPC_ad1</th>\n",
       "      <th>eCPC_ad2</th>\n",
       "    </tr>\n",
       "  </thead>\n",
       "  <tbody>\n",
       "    <tr>\n",
       "      <th>0</th>\n",
       "      <td>0</td>\n",
       "      <td>65.200700</td>\n",
       "      <td>107.424276</td>\n",
       "    </tr>\n",
       "    <tr>\n",
       "      <th>1</th>\n",
       "      <td>1</td>\n",
       "      <td>275.528000</td>\n",
       "      <td>79.581333</td>\n",
       "    </tr>\n",
       "    <tr>\n",
       "      <th>2</th>\n",
       "      <td>2</td>\n",
       "      <td>33.669200</td>\n",
       "      <td>102.709000</td>\n",
       "    </tr>\n",
       "    <tr>\n",
       "      <th>3</th>\n",
       "      <td>3</td>\n",
       "      <td>94.361000</td>\n",
       "      <td>39.307000</td>\n",
       "    </tr>\n",
       "    <tr>\n",
       "      <th>4</th>\n",
       "      <td>4</td>\n",
       "      <td>30.191667</td>\n",
       "      <td>NaN</td>\n",
       "    </tr>\n",
       "    <tr>\n",
       "      <th>5</th>\n",
       "      <td>5</td>\n",
       "      <td>60.454500</td>\n",
       "      <td>NaN</td>\n",
       "    </tr>\n",
       "    <tr>\n",
       "      <th>6</th>\n",
       "      <td>6</td>\n",
       "      <td>131.366000</td>\n",
       "      <td>37.319667</td>\n",
       "    </tr>\n",
       "    <tr>\n",
       "      <th>7</th>\n",
       "      <td>7</td>\n",
       "      <td>95.247333</td>\n",
       "      <td>NaN</td>\n",
       "    </tr>\n",
       "    <tr>\n",
       "      <th>8</th>\n",
       "      <td>8</td>\n",
       "      <td>142.953000</td>\n",
       "      <td>85.241000</td>\n",
       "    </tr>\n",
       "    <tr>\n",
       "      <th>9</th>\n",
       "      <td>9</td>\n",
       "      <td>66.485000</td>\n",
       "      <td>NaN</td>\n",
       "    </tr>\n",
       "    <tr>\n",
       "      <th>10</th>\n",
       "      <td>10</td>\n",
       "      <td>70.994909</td>\n",
       "      <td>113.900250</td>\n",
       "    </tr>\n",
       "    <tr>\n",
       "      <th>11</th>\n",
       "      <td>11</td>\n",
       "      <td>122.964143</td>\n",
       "      <td>198.268500</td>\n",
       "    </tr>\n",
       "    <tr>\n",
       "      <th>12</th>\n",
       "      <td>12</td>\n",
       "      <td>177.666200</td>\n",
       "      <td>402.121000</td>\n",
       "    </tr>\n",
       "    <tr>\n",
       "      <th>13</th>\n",
       "      <td>13</td>\n",
       "      <td>61.098462</td>\n",
       "      <td>123.582250</td>\n",
       "    </tr>\n",
       "    <tr>\n",
       "      <th>14</th>\n",
       "      <td>14</td>\n",
       "      <td>61.632286</td>\n",
       "      <td>164.842000</td>\n",
       "    </tr>\n",
       "    <tr>\n",
       "      <th>15</th>\n",
       "      <td>15</td>\n",
       "      <td>77.967455</td>\n",
       "      <td>101.180667</td>\n",
       "    </tr>\n",
       "    <tr>\n",
       "      <th>16</th>\n",
       "      <td>16</td>\n",
       "      <td>119.924000</td>\n",
       "      <td>163.448500</td>\n",
       "    </tr>\n",
       "    <tr>\n",
       "      <th>17</th>\n",
       "      <td>17</td>\n",
       "      <td>71.325250</td>\n",
       "      <td>153.283500</td>\n",
       "    </tr>\n",
       "    <tr>\n",
       "      <th>18</th>\n",
       "      <td>18</td>\n",
       "      <td>85.362400</td>\n",
       "      <td>NaN</td>\n",
       "    </tr>\n",
       "    <tr>\n",
       "      <th>19</th>\n",
       "      <td>19</td>\n",
       "      <td>69.977500</td>\n",
       "      <td>217.992000</td>\n",
       "    </tr>\n",
       "    <tr>\n",
       "      <th>20</th>\n",
       "      <td>20</td>\n",
       "      <td>70.804000</td>\n",
       "      <td>NaN</td>\n",
       "    </tr>\n",
       "    <tr>\n",
       "      <th>21</th>\n",
       "      <td>21</td>\n",
       "      <td>52.168375</td>\n",
       "      <td>10.744000</td>\n",
       "    </tr>\n",
       "    <tr>\n",
       "      <th>22</th>\n",
       "      <td>22</td>\n",
       "      <td>73.866833</td>\n",
       "      <td>69.583226</td>\n",
       "    </tr>\n",
       "    <tr>\n",
       "      <th>23</th>\n",
       "      <td>23</td>\n",
       "      <td>73.015667</td>\n",
       "      <td>116.401000</td>\n",
       "    </tr>\n",
       "  </tbody>\n",
       "</table>\n",
       "</div>"
      ],
      "text/plain": [
       "    hour    eCPC_ad1    eCPC_ad2\n",
       "0      0   65.200700  107.424276\n",
       "1      1  275.528000   79.581333\n",
       "2      2   33.669200  102.709000\n",
       "3      3   94.361000   39.307000\n",
       "4      4   30.191667         NaN\n",
       "5      5   60.454500         NaN\n",
       "6      6  131.366000   37.319667\n",
       "7      7   95.247333         NaN\n",
       "8      8  142.953000   85.241000\n",
       "9      9   66.485000         NaN\n",
       "10    10   70.994909  113.900250\n",
       "11    11  122.964143  198.268500\n",
       "12    12  177.666200  402.121000\n",
       "13    13   61.098462  123.582250\n",
       "14    14   61.632286  164.842000\n",
       "15    15   77.967455  101.180667\n",
       "16    16  119.924000  163.448500\n",
       "17    17   71.325250  153.283500\n",
       "18    18   85.362400         NaN\n",
       "19    19   69.977500  217.992000\n",
       "20    20   70.804000         NaN\n",
       "21    21   52.168375   10.744000\n",
       "22    22   73.866833   69.583226\n",
       "23    23   73.015667  116.401000"
      ]
     },
     "execution_count": 868,
     "metadata": {},
     "output_type": "execute_result"
    }
   ],
   "source": [
    "CPC_re"
   ]
  },
  {
   "cell_type": "markdown",
   "metadata": {},
   "source": [
    "### 9. eCPC against hour"
   ]
  },
  {
   "cell_type": "code",
   "execution_count": 927,
   "metadata": {
    "collapsed": false
   },
   "outputs": [
    {
     "data": {
      "text/plain": [
       "<matplotlib.text.Text at 0x337b2cf28>"
      ]
     },
     "execution_count": 927,
     "metadata": {},
     "output_type": "execute_result"
    },
    {
     "data": {
      "image/png": "[encoded data removed]",
      "text/plain": [
       "<matplotlib.figure.Figure at 0x33792cc50>"
      ]
     },
     "metadata": {},
     "output_type": "display_data"
    }
   ],
   "source": [
    "pic_cpc=plt.figure(figsize=(5,9))\n",
    "alpha_level = 0.55\n",
    "label = [i for i in range(0,24)]\n",
    "pic1_cpc = pic_cpc.add_subplot(2,1,1)\n",
    "\n",
    "CPC_re['eCPC_ad1'].plot(kind='bar', color='blue', \n",
    "                  alpha=alpha_level)\n",
    "pic1_cpc.set_xticklabels(label, rotation=0)\n",
    "plt.title(\" eCPC of hour for advertiser 1458\")\n",
    "plt.ylabel('eCPC')\n",
    "plt.xlabel('hour')\n",
    "\n",
    "\n",
    "pic2_cpc = pic_cpc.add_subplot(2,1,2)\n",
    "\n",
    "CPC_re['eCPC_ad2'].plot(kind='bar', color='pink', \n",
    "                  alpha=alpha_level)\n",
    "pic2_cpc.set_xticklabels(label, rotation=0)\n",
    "plt.title(\" eCPC of hour for advertiser 3358\")\n",
    "plt.ylabel('eCPC')\n",
    "plt.xlabel('hour')"
   ]
  },
  {
   "cell_type": "code",
   "execution_count": null,
   "metadata": {
    "collapsed": false
   },
   "outputs": [],
   "source": []
  },
  {
   "cell_type": "markdown",
   "metadata": {},
   "source": [
    "# Group code"
   ]
  },
  {
   "cell_type": "markdown",
   "metadata": {},
   "source": [
    "### Data Preprocess"
   ]
  },
  {
   "cell_type": "markdown",
   "metadata": {},
   "source": [
    "### Split os and browser"
   ]
  },
  {
   "cell_type": "code",
   "execution_count": 759,
   "metadata": {
    "collapsed": true
   },
   "outputs": [],
   "source": [
    "# split os and browser\n",
    "def split_useragent_os(data):\n",
    "    return data.split('_')[0]\n",
    "def split_useragent_b(data):\n",
    "    return data.split('_')[1]\n",
    "def split_useragent(dataframe):\n",
    "    dataframe['os'] = dataframe['useragent'].apply(split_useragent_os)\n",
    "    dataframe['browser'] = dataframe['useragent'].apply(split_useragent_b)\n",
    "    dataframe.drop(['useragent'], axis=1, inplace=True)\n",
    "\n",
    "split_useragent(df_train_original)\n",
    "split_useragent(df_validation_original)\n",
    "split_useragent(df_test_original)"
   ]
  },
  {
   "cell_type": "markdown",
   "metadata": {},
   "source": [
    "### Drop features"
   ]
  },
  {
   "cell_type": "code",
   "execution_count": 777,
   "metadata": {
    "collapsed": true
   },
   "outputs": [],
   "source": [
    "col_to_drop1 = ['city','slotid','slotprice','IP','domain','usertag','creative','logtype','bidid','userid','url','urlid','bidprice','payprice','keypage']\n",
    "# col_to_drop2 = ['IP','domain','usertag','creative','logtype','bidid','userid','url','urlid','bidprice','payprice','keypage']\n",
    "test_to_drop = ['city','slotid','slotprice','IP','domain','usertag','creative','logtype','bidid','userid','url','urlid','keypage']"
   ]
  },
  {
   "cell_type": "code",
   "execution_count": 778,
   "metadata": {
    "collapsed": true
   },
   "outputs": [],
   "source": [
    "df_train = df_train_original.drop(col_to_drop1, axis=1)\n",
    "df_validation = df_validation_original.drop(col_to_drop1, axis=1)\n",
    "df_test = df_test_original.drop(test_to_drop, axis=1)"
   ]
  },
  {
   "cell_type": "code",
   "execution_count": 779,
   "metadata": {
    "collapsed": true
   },
   "outputs": [],
   "source": [
    "def onehot(onehot_df, column_name):\n",
    "    dummies = pd.get_dummies(onehot_df[column_name],prefix=column_name)\n",
    "    onehot_df = onehot_df.join(dummies)\n",
    "    onehot_df = onehot_df.drop([column_name], axis=1)\n",
    "    return onehot_df"
   ]
  },
  {
   "cell_type": "code",
   "execution_count": 780,
   "metadata": {
    "collapsed": true
   },
   "outputs": [],
   "source": [
    "column_to_onehot = ['weekday','hour','region','adexchange','slotformat','os','browser','slotwidth','slotheight','slotvisibility']\n",
    "for col_name in column_to_onehot:\n",
    "    df_train = onehot(df_train, col_name)\n",
    "    df_validation = onehot(df_validation, col_name)\n",
    "    df_test = onehot(df_test, col_name)"
   ]
  },
  {
   "cell_type": "code",
   "execution_count": 781,
   "metadata": {
    "collapsed": true
   },
   "outputs": [],
   "source": [
    "from sklearn.linear_model import LogisticRegression as lr\n",
    "from sklearn import metrics\n",
    "model_list = {}\n",
    "train_y = {}\n",
    "train_X = {}\n",
    "val_y = {}\n",
    "val_X = {}\n",
    "test_X = {}\n",
    "auc = {}\n",
    "for advertiser in df_train['advertiser'].unique():\n",
    "    df_one_advertiser = df_train.ix[(df_train['advertiser']==advertiser)]\n",
    "    df_one_advertiser_validation = df_validation.ix[(df_validation['advertiser']==advertiser)]\n",
    "    df_one_advertiser_test = df_test.ix[(df_test['advertiser']==advertiser)]\n",
    "    \n",
    "    train_y[advertiser] = df_one_advertiser['click']\n",
    "    val_y[advertiser] = df_one_advertiser_validation['click']\n",
    "    train_X[advertiser] = df_one_advertiser.drop(['click','advertiser'], axis=1)\n",
    "    val_X[advertiser] = df_one_advertiser_validation.drop(['click','advertiser'], axis=1)\n",
    "    test_X[advertiser] = df_one_advertiser_test.drop(['advertiser'], axis=1)\n",
    "    \n",
    "    lr_instance = lr()\n",
    "    lr_instance.fit(train_X[advertiser], train_y[advertiser])\n",
    "    model_list[advertiser] = lr_instance\n",
    "    \n",
    "    # calculate AUC\n",
    "    fpr, tpr, thresholds = metrics.roc_curve(val_y[advertiser].tolist(), model_list[advertiser].predict_proba(val_X[advertiser])[:,1:].transpose().tolist()[0])\n",
    "    auc[advertiser] = metrics.auc(fpr, tpr)"
   ]
  },
  {
   "cell_type": "code",
   "execution_count": 782,
   "metadata": {
    "collapsed": false
   },
   "outputs": [
    {
     "data": {
      "text/plain": [
       "{1458: 0.51971521467278026,\n",
       " 2259: 0.66851535836177467,\n",
       " 2261: 0.57678264122708567,\n",
       " 2821: 0.53135125507495307,\n",
       " 2997: 0.61635767694356236,\n",
       " 3358: 0.59773930200525127,\n",
       " 3386: 0.69090832183847428,\n",
       " 3427: 0.64348555484919123,\n",
       " 3476: 0.6312809814200635}"
      ]
     },
     "execution_count": 782,
     "metadata": {},
     "output_type": "execute_result"
    }
   ],
   "source": [
    "auc"
   ]
  },
  {
   "cell_type": "code",
   "execution_count": 783,
   "metadata": {
    "collapsed": true
   },
   "outputs": [],
   "source": [
    "train_avgCTR = {}\n",
    "train_click_num = {}\n",
    "val_click_num = {}\n",
    "for advertiser in df_train['advertiser'].unique():\n",
    "    train_avgCTR[advertiser] = float(train_y[advertiser].value_counts()[1])/float(len(train_y[advertiser]))\n",
    "#     train_avgCTR[advertiser] = format(float(train_y[advertiser].value_counts()[1])/float(len(train_y[advertiser])), '.3%')\n",
    "    train_click_num[advertiser] = train_y[advertiser].value_counts()[1]\n",
    "    val_click_num[advertiser] = val_y[advertiser].value_counts()[1]\n",
    "    "
   ]
  },
  {
   "cell_type": "code",
   "execution_count": 767,
   "metadata": {
    "collapsed": false
   },
   "outputs": [
    {
     "data": {
      "text/plain": [
       "{1458: 0.0008968267597839983,\n",
       " 2259: 0.00020978287472465997,\n",
       " 2261: 0.00029818956336528224,\n",
       " 2821: 0.0005003001801080648,\n",
       " 2997: 0.004958209378098881,\n",
       " 3358: 0.0008521408985446108,\n",
       " 3386: 0.0007257977340697692,\n",
       " 3427: 0.0007432919321618448,\n",
       " 3476: 0.00047535930478701676}"
      ]
     },
     "execution_count": 767,
     "metadata": {},
     "output_type": "execute_result"
    }
   ],
   "source": [
    "train_avgCTR"
   ]
  },
  {
   "cell_type": "code",
   "execution_count": 768,
   "metadata": {
    "collapsed": false
   },
   "outputs": [
    {
     "data": {
      "text/plain": [
       "{1458: 188,\n",
       " 2259: 12,\n",
       " 2261: 14,\n",
       " 2821: 45,\n",
       " 2997: 105,\n",
       " 3358: 101,\n",
       " 3386: 141,\n",
       " 3427: 131,\n",
       " 3476: 64}"
      ]
     },
     "execution_count": 768,
     "metadata": {},
     "output_type": "execute_result"
    }
   ],
   "source": [
    "train_click_num"
   ]
  },
  {
   "cell_type": "code",
   "execution_count": 769,
   "metadata": {
    "collapsed": false
   },
   "outputs": [
    {
     "data": {
      "text/plain": [
       "{1458: 50,\n",
       " 2259: 11,\n",
       " 2261: 5,\n",
       " 2821: 16,\n",
       " 2997: 26,\n",
       " 3358: 27,\n",
       " 3386: 33,\n",
       " 3427: 45,\n",
       " 3476: 13}"
      ]
     },
     "execution_count": 769,
     "metadata": {},
     "output_type": "execute_result"
    }
   ],
   "source": [
    "val_click_num"
   ]
  },
  {
   "cell_type": "markdown",
   "metadata": {},
   "source": [
    "# Validation"
   ]
  },
  {
   "cell_type": "code",
   "execution_count": 784,
   "metadata": {
    "collapsed": false
   },
   "outputs": [
    {
     "data": {
      "text/plain": [
       "5"
      ]
     },
     "execution_count": 784,
     "metadata": {},
     "output_type": "execute_result"
    }
   ],
   "source": [
    "val_y[advertiser].value_counts()[1]"
   ]
  },
  {
   "cell_type": "code",
   "execution_count": 785,
   "metadata": {
    "collapsed": true
   },
   "outputs": [],
   "source": [
    "val_prop = {}\n",
    "val_average_pctr = {}\n",
    "val_avgCTR = {}\n",
    "for advertiser in df_train['advertiser'].unique():\n",
    "    val_prop[advertiser] = pd.DataFrame(model_list[advertiser].predict_proba(val_X[advertiser]),index = val_X[advertiser].index)\n",
    "    val_average_pctr[advertiser] = format(val_prop[advertiser][1].mean(), '.3%')\n",
    "    val_avgCTR[advertiser] = format(float(val_y[advertiser].value_counts()[1])/float(len(val_y[advertiser])), '.3%')"
   ]
  },
  {
   "cell_type": "code",
   "execution_count": 786,
   "metadata": {
    "collapsed": false
   },
   "outputs": [
    {
     "data": {
      "text/plain": [
       "{1458: '0.090%',\n",
       " 2259: '0.024%',\n",
       " 2261: '0.035%',\n",
       " 2821: '0.052%',\n",
       " 2997: '0.508%',\n",
       " 3358: '0.086%',\n",
       " 3386: '0.074%',\n",
       " 3427: '0.074%',\n",
       " 3476: '0.049%'}"
      ]
     },
     "execution_count": 786,
     "metadata": {},
     "output_type": "execute_result"
    }
   ],
   "source": [
    "val_average_pctr"
   ]
  },
  {
   "cell_type": "code",
   "execution_count": 787,
   "metadata": {
    "collapsed": false
   },
   "outputs": [
    {
     "data": {
      "text/plain": [
       "{1458: '0.083%',\n",
       " 2259: '0.067%',\n",
       " 2261: '0.037%',\n",
       " 2821: '0.062%',\n",
       " 2997: '0.431%',\n",
       " 3358: '0.080%',\n",
       " 3386: '0.060%',\n",
       " 3427: '0.089%',\n",
       " 3476: '0.033%'}"
      ]
     },
     "execution_count": 787,
     "metadata": {},
     "output_type": "execute_result"
    }
   ],
   "source": [
    "val_avgCTR"
   ]
  },
  {
   "cell_type": "code",
   "execution_count": 788,
   "metadata": {
    "collapsed": true
   },
   "outputs": [],
   "source": [
    "df_val_pctr = pd.concat([val_prop[1458],val_prop[3476],val_prop[3427],val_prop[3358],val_prop[2259],val_prop[2821],val_prop[3386],val_prop[2997],val_prop[2261]]).sort_index()"
   ]
  },
  {
   "cell_type": "code",
   "execution_count": 789,
   "metadata": {
    "collapsed": true
   },
   "outputs": [],
   "source": [
    "# to be used\n",
    "df_val_pctr = df_val_pctr.rename(columns={1:'pCTR'})"
   ]
  },
  {
   "cell_type": "markdown",
   "metadata": {},
   "source": [
    "# Train + Validation ---> avgCTR"
   ]
  },
  {
   "cell_type": "code",
   "execution_count": 790,
   "metadata": {
    "collapsed": true
   },
   "outputs": [],
   "source": [
    "all_avgCTR = {}\n",
    "for advertiser in df_train['advertiser'].unique():\n",
    "    all_avgCTR[advertiser] = float(val_y[advertiser].value_counts()[1]+train_y[advertiser].value_counts()[1])/float(len(val_y[advertiser])+len(train_y[advertiser]))"
   ]
  },
  {
   "cell_type": "code",
   "execution_count": 791,
   "metadata": {
    "collapsed": false
   },
   "outputs": [
    {
     "data": {
      "text/plain": [
       "{1458: 0.0008826158062398712,\n",
       " 2259: 0.0003124108610314992,\n",
       " 2261: 0.0003149867374005305,\n",
       " 2821: 0.0005277821038605963,\n",
       " 2997: 0.004814229539524457,\n",
       " 3358: 0.0008400162753153342,\n",
       " 3386: 0.0006974926342372677,\n",
       " 3427: 0.0007766167749223384,\n",
       " 3476: 0.0004438705512065209}"
      ]
     },
     "execution_count": 791,
     "metadata": {},
     "output_type": "execute_result"
    }
   ],
   "source": [
    "# to be used\n",
    "all_avgCTR"
   ]
  },
  {
   "cell_type": "code",
   "execution_count": 792,
   "metadata": {
    "collapsed": true
   },
   "outputs": [],
   "source": [
    "test_prop ={}\n",
    "test_average_pctr = {}\n",
    "for advertiser in df_train['advertiser'].unique():\n",
    "    test_prop[advertiser] = pd.DataFrame(model_list[advertiser].predict_proba(test_X[advertiser]),index = test_X[advertiser].index)\n",
    "    test_average_pctr[advertiser] = format(test_prop[advertiser][1].mean(), '.3%')"
   ]
  },
  {
   "cell_type": "code",
   "execution_count": 793,
   "metadata": {
    "collapsed": false
   },
   "outputs": [
    {
     "data": {
      "text/plain": [
       "{1458: '0.090%',\n",
       " 2259: '0.024%',\n",
       " 2261: '0.035%',\n",
       " 2821: '0.052%',\n",
       " 2997: '0.501%',\n",
       " 3358: '0.087%',\n",
       " 3386: '0.076%',\n",
       " 3427: '0.075%',\n",
       " 3476: '0.049%'}"
      ]
     },
     "execution_count": 793,
     "metadata": {},
     "output_type": "execute_result"
    }
   ],
   "source": [
    "test_average_pctr"
   ]
  },
  {
   "cell_type": "code",
   "execution_count": 794,
   "metadata": {
    "collapsed": true
   },
   "outputs": [],
   "source": [
    "df_test_pctr = pd.concat([test_prop[1458],test_prop[3476],test_prop[3427],test_prop[3358],test_prop[2259],test_prop[2821],test_prop[3386],test_prop[2997],test_prop[2261]]).sort_index()"
   ]
  },
  {
   "cell_type": "code",
   "execution_count": 795,
   "metadata": {
    "collapsed": true
   },
   "outputs": [],
   "source": [
    "# to be used\n",
    "df_test_pctr = df_test_pctr.rename(columns={1:'pCTR'})"
   ]
  },
  {
   "cell_type": "markdown",
   "metadata": {},
   "source": [
    "# Basic Bidding Strategy"
   ]
  },
  {
   "cell_type": "markdown",
   "metadata": {},
   "source": [
    "## Constant strategy\n"
   ]
  },
  {
   "cell_type": "code",
   "execution_count": 796,
   "metadata": {
    "collapsed": true
   },
   "outputs": [],
   "source": [
    "def constant_bidding(constant):\n",
    "    ad_go_through = -1\n",
    "    impression = 0.0\n",
    "    clicks = 0\n",
    "    cost = 0.0\n",
    "    budget = 25000000\n",
    "    \n",
    "    budget = budget / 2\n",
    "    \n",
    "    for click, pay_price in df_validation_original[['click','payprice']].values:\n",
    "        ad_go_through += 1\n",
    "        if constant > pay_price:\n",
    "            impression += 1.0\n",
    "            clicks += click\n",
    "            cost += pay_price\n",
    "        if cost >= budget:\n",
    "            break\n",
    "    return impression, clicks, cost, ad_go_through"
   ]
  },
  {
   "cell_type": "code",
   "execution_count": 797,
   "metadata": {
    "collapsed": true
   },
   "outputs": [],
   "source": [
    "const = pd.DataFrame()\n",
    "const['constants'] = np.arange(0,302,2)\n",
    "\n",
    "im = []\n",
    "clks = []\n",
    "ct = []\n",
    "agt = []\n",
    "for con in const['constants']:\n",
    "    [imps, clicks, cost,ad_go_through] = constant_bidding(con)\n",
    "    im.append(imps)\n",
    "    clks.append(clicks)\n",
    "    ct.append(cost)\n",
    "    agt.append(ad_go_through)"
   ]
  },
  {
   "cell_type": "code",
   "execution_count": 798,
   "metadata": {
    "collapsed": true
   },
   "outputs": [],
   "source": [
    "const['imps_won'] = im\n",
    "const['total_spend'] = ct\n",
    "# const['cost'] = cc\n",
    "const['clicks'] = clks\n",
    "const['ad_go_through'] = agt\n",
    "const['CTR'] = const['clicks']/const['imps_won']\n",
    "const['eCPC'] = (const['total_spend']/const['clicks'])/1000\n",
    "const['CPM'] =  const['total_spend']/const['imps_won']"
   ]
  },
  {
   "cell_type": "code",
   "execution_count": 799,
   "metadata": {
    "collapsed": true
   },
   "outputs": [],
   "source": [
    "def eva_plot(dataframe, xlabel):\n",
    "    pic = plt.figure(figsize=(11,11))\n",
    "    pic1 =pic.add_subplot(2,2,1)\n",
    "    dataframe['clicks'].plot()\n",
    "    plt.ylabel('Clicks')\n",
    "    plt.xlabel(xlabel)\n",
    "\n",
    "    pic2 =pic.add_subplot(2,2,2)\n",
    "    dataframe['CTR'].plot()\n",
    "    plt.ylabel('CTR')\n",
    "    plt.xlabel(xlabel)\n",
    "\n",
    "    pic3 =pic.add_subplot(2,2,3)\n",
    "    dataframe['eCPC'].plot()\n",
    "    plt.ylabel('eCPC')\n",
    "    plt.xlabel(xlabel)\n",
    "\n",
    "    pic4 =pic.add_subplot(2,2,4)\n",
    "    dataframe['CPM'].plot()\n",
    "    plt.ylabel('CPM')\n",
    "    plt.xlabel(xlabel)"
   ]
  },
  {
   "cell_type": "code",
   "execution_count": 800,
   "metadata": {
    "collapsed": false
   },
   "outputs": [
    {
     "data": {
      "text/html": [
       "<div>\n",
       "<table border=\"1\" class=\"dataframe\">\n",
       "  <thead>\n",
       "    <tr style=\"text-align: right;\">\n",
       "      <th></th>\n",
       "      <th>constants</th>\n",
       "      <th>imps_won</th>\n",
       "      <th>total_spend</th>\n",
       "      <th>clicks</th>\n",
       "      <th>ad_go_through</th>\n",
       "      <th>CTR</th>\n",
       "      <th>eCPC</th>\n",
       "      <th>CPM</th>\n",
       "    </tr>\n",
       "  </thead>\n",
       "  <tbody>\n",
       "    <tr>\n",
       "      <th>65</th>\n",
       "      <td>130</td>\n",
       "      <td>227199.0</td>\n",
       "      <td>12500032.0</td>\n",
       "      <td>145</td>\n",
       "      <td>279076</td>\n",
       "      <td>0.000638</td>\n",
       "      <td>86.207117</td>\n",
       "      <td>55.017989</td>\n",
       "    </tr>\n",
       "  </tbody>\n",
       "</table>\n",
       "</div>"
      ],
      "text/plain": [
       "    constants  imps_won  total_spend  clicks  ad_go_through       CTR  \\\n",
       "65        130  227199.0   12500032.0     145         279076  0.000638   \n",
       "\n",
       "         eCPC        CPM  \n",
       "65  86.207117  55.017989  "
      ]
     },
     "execution_count": 800,
     "metadata": {},
     "output_type": "execute_result"
    }
   ],
   "source": [
    "const.ix[(const['clicks']==const['clicks'].max())]"
   ]
  },
  {
   "cell_type": "code",
   "execution_count": 801,
   "metadata": {
    "collapsed": false
   },
   "outputs": [
    {
     "data": {
      "text/html": [
       "<div>\n",
       "<table border=\"1\" class=\"dataframe\">\n",
       "  <thead>\n",
       "    <tr style=\"text-align: right;\">\n",
       "      <th></th>\n",
       "      <th>constants</th>\n",
       "      <th>imps_won</th>\n",
       "      <th>total_spend</th>\n",
       "      <th>clicks</th>\n",
       "      <th>ad_go_through</th>\n",
       "      <th>CTR</th>\n",
       "      <th>eCPC</th>\n",
       "      <th>CPM</th>\n",
       "    </tr>\n",
       "  </thead>\n",
       "  <tbody>\n",
       "    <tr>\n",
       "      <th>129</th>\n",
       "      <td>258</td>\n",
       "      <td>162509.0</td>\n",
       "      <td>12500012.0</td>\n",
       "      <td>128</td>\n",
       "      <td>165287</td>\n",
       "      <td>0.000788</td>\n",
       "      <td>97.656344</td>\n",
       "      <td>76.918891</td>\n",
       "    </tr>\n",
       "  </tbody>\n",
       "</table>\n",
       "</div>"
      ],
      "text/plain": [
       "     constants  imps_won  total_spend  clicks  ad_go_through       CTR  \\\n",
       "129        258  162509.0   12500012.0     128         165287  0.000788   \n",
       "\n",
       "          eCPC        CPM  \n",
       "129  97.656344  76.918891  "
      ]
     },
     "execution_count": 801,
     "metadata": {},
     "output_type": "execute_result"
    }
   ],
   "source": [
    "const.ix[(const['CTR']==const['CTR'].max())]"
   ]
  },
  {
   "cell_type": "code",
   "execution_count": 802,
   "metadata": {
    "collapsed": true
   },
   "outputs": [],
   "source": [
    "df_val_const = df_validation_original.copy()"
   ]
  },
  {
   "cell_type": "code",
   "execution_count": 803,
   "metadata": {
    "collapsed": true
   },
   "outputs": [],
   "source": [
    "df_val_const['bidprice'] = 44*2"
   ]
  },
  {
   "cell_type": "code",
   "execution_count": 804,
   "metadata": {
    "collapsed": false
   },
   "outputs": [
    {
     "data": {
      "text/html": [
       "<div>\n",
       "<table border=\"1\" class=\"dataframe\">\n",
       "  <thead>\n",
       "    <tr style=\"text-align: right;\">\n",
       "      <th></th>\n",
       "      <th>click</th>\n",
       "      <th>Imps</th>\n",
       "      <th>cost</th>\n",
       "      <th>CPM</th>\n",
       "      <th>CTR</th>\n",
       "      <th>eCPC</th>\n",
       "    </tr>\n",
       "    <tr>\n",
       "      <th>advertiser</th>\n",
       "      <th></th>\n",
       "      <th></th>\n",
       "      <th></th>\n",
       "      <th></th>\n",
       "      <th></th>\n",
       "      <th></th>\n",
       "    </tr>\n",
       "  </thead>\n",
       "  <tbody>\n",
       "    <tr>\n",
       "      <th>1458</th>\n",
       "      <td>14</td>\n",
       "      <td>15835</td>\n",
       "      <td>891</td>\n",
       "      <td>48.37</td>\n",
       "      <td>0.088%</td>\n",
       "      <td>63.64</td>\n",
       "    </tr>\n",
       "    <tr>\n",
       "      <th>2259</th>\n",
       "      <td>1</td>\n",
       "      <td>3145</td>\n",
       "      <td>70</td>\n",
       "      <td>39.33</td>\n",
       "      <td>0.032%</td>\n",
       "      <td>70.00</td>\n",
       "    </tr>\n",
       "    <tr>\n",
       "      <th>2261</th>\n",
       "      <td>2</td>\n",
       "      <td>2568</td>\n",
       "      <td>79</td>\n",
       "      <td>35.82</td>\n",
       "      <td>0.078%</td>\n",
       "      <td>39.50</td>\n",
       "    </tr>\n",
       "    <tr>\n",
       "      <th>2821</th>\n",
       "      <td>2</td>\n",
       "      <td>5043</td>\n",
       "      <td>63</td>\n",
       "      <td>38.18</td>\n",
       "      <td>0.04%</td>\n",
       "      <td>31.50</td>\n",
       "    </tr>\n",
       "    <tr>\n",
       "      <th>2997</th>\n",
       "      <td>4</td>\n",
       "      <td>1467</td>\n",
       "      <td>45</td>\n",
       "      <td>32.91</td>\n",
       "      <td>0.273%</td>\n",
       "      <td>11.25</td>\n",
       "    </tr>\n",
       "    <tr>\n",
       "      <th>3358</th>\n",
       "      <td>3</td>\n",
       "      <td>6470</td>\n",
       "      <td>210</td>\n",
       "      <td>49.66</td>\n",
       "      <td>0.046%</td>\n",
       "      <td>70.00</td>\n",
       "    </tr>\n",
       "    <tr>\n",
       "      <th>3386</th>\n",
       "      <td>7</td>\n",
       "      <td>13533</td>\n",
       "      <td>443</td>\n",
       "      <td>47.62</td>\n",
       "      <td>0.052%</td>\n",
       "      <td>63.29</td>\n",
       "    </tr>\n",
       "    <tr>\n",
       "      <th>3427</th>\n",
       "      <td>13</td>\n",
       "      <td>11759</td>\n",
       "      <td>861</td>\n",
       "      <td>52.30</td>\n",
       "      <td>0.111%</td>\n",
       "      <td>66.23</td>\n",
       "    </tr>\n",
       "    <tr>\n",
       "      <th>3476</th>\n",
       "      <td>9</td>\n",
       "      <td>9302</td>\n",
       "      <td>572</td>\n",
       "      <td>50.09</td>\n",
       "      <td>0.097%</td>\n",
       "      <td>63.56</td>\n",
       "    </tr>\n",
       "  </tbody>\n",
       "</table>\n",
       "</div>"
      ],
      "text/plain": [
       "            click   Imps  cost    CPM     CTR   eCPC\n",
       "advertiser                                          \n",
       "1458           14  15835   891  48.37  0.088%  63.64\n",
       "2259            1   3145    70  39.33  0.032%  70.00\n",
       "2261            2   2568    79  35.82  0.078%  39.50\n",
       "2821            2   5043    63  38.18   0.04%  31.50\n",
       "2997            4   1467    45  32.91  0.273%  11.25\n",
       "3358            3   6470   210  49.66  0.046%  70.00\n",
       "3386            7  13533   443  47.62  0.052%  63.29\n",
       "3427           13  11759   861  52.30  0.111%  66.23\n",
       "3476            9   9302   572  50.09  0.097%  63.56"
      ]
     },
     "execution_count": 804,
     "metadata": {},
     "output_type": "execute_result"
    }
   ],
   "source": [
    "evaluate_result(df_val_const[:97549])"
   ]
  },
  {
   "cell_type": "markdown",
   "metadata": {},
   "source": [
    "## Random Strategy"
   ]
  },
  {
   "cell_type": "code",
   "execution_count": 805,
   "metadata": {
    "collapsed": true
   },
   "outputs": [],
   "source": [
    "from random import randrange\n",
    "def random_bidding(upperbound):\n",
    "    ad_go_through = -1\n",
    "    impression = 0.0\n",
    "    clicks = 0\n",
    "    cost = 0.0\n",
    "#     click_cost = 0.0\n",
    "    budget = 25000 * 1000\n",
    "    \n",
    "    budget = budget / 4\n",
    "    \n",
    "    for click, pay_price in df_validation_original[['click','payprice']].values:\n",
    "        bidprice = randrange(0,upperbound)\n",
    "        ad_go_through += 1\n",
    "        if bidprice > pay_price:\n",
    "            impression += 1.0\n",
    "            clicks += click\n",
    "#             if click == 1:\n",
    "#                 click_cost += pay_price\n",
    "            cost += pay_price\n",
    "        if cost >= budget:\n",
    "            break\n",
    "    return impression, clicks, cost, ad_go_through"
   ]
  },
  {
   "cell_type": "code",
   "execution_count": 806,
   "metadata": {
    "collapsed": true
   },
   "outputs": [],
   "source": [
    "random = pd.DataFrame()\n",
    "random['upperbound'] = np.arange(100,302,2)\n",
    "\n",
    "im = []\n",
    "clks = []\n",
    "ct = []\n",
    "agt = []\n",
    "# cc = []\n",
    "for rand in random['upperbound']:\n",
    "    [imps, clicks, cost, ad_go_through] = random_bidding(rand)\n",
    "    im.append(imps)\n",
    "    clks.append(clicks)\n",
    "    ct.append(cost)\n",
    "#     cc.append(click_cost)\n",
    "    agt.append(ad_go_through)"
   ]
  },
  {
   "cell_type": "code",
   "execution_count": 807,
   "metadata": {
    "collapsed": true
   },
   "outputs": [],
   "source": [
    "random['imps_won'] = im\n",
    "random['total_spend'] = ct\n",
    "# random['cost'] = cc\n",
    "random['clicks'] = clks\n",
    "random['ad_go_through'] = agt\n",
    "random['CTR'] = random['clicks']/random['imps_won']\n",
    "random['eCPC'] = (random['total_spend']/random['clicks'])/1000\n",
    "random['CPM'] = random['total_spend']/random['imps_won']"
   ]
  },
  {
   "cell_type": "code",
   "execution_count": 808,
   "metadata": {
    "collapsed": false
   },
   "outputs": [
    {
     "data": {
      "image/png": "[encoded data removed]",
      "text/plain": [
       "<matplotlib.figure.Figure at 0x29acd6438>"
      ]
     },
     "metadata": {},
     "output_type": "display_data"
    }
   ],
   "source": [
    "eva_plot(random,'Upperbound/2')"
   ]
  },
  {
   "cell_type": "code",
   "execution_count": 809,
   "metadata": {
    "collapsed": false
   },
   "outputs": [
    {
     "data": {
      "text/html": [
       "<div>\n",
       "<table border=\"1\" class=\"dataframe\">\n",
       "  <thead>\n",
       "    <tr style=\"text-align: right;\">\n",
       "      <th></th>\n",
       "      <th>upperbound</th>\n",
       "      <th>imps_won</th>\n",
       "      <th>total_spend</th>\n",
       "      <th>clicks</th>\n",
       "      <th>ad_go_through</th>\n",
       "      <th>CTR</th>\n",
       "      <th>eCPC</th>\n",
       "      <th>CPM</th>\n",
       "    </tr>\n",
       "  </thead>\n",
       "  <tbody>\n",
       "    <tr>\n",
       "      <th>56</th>\n",
       "      <td>212</td>\n",
       "      <td>116447.0</td>\n",
       "      <td>6250004.0</td>\n",
       "      <td>86</td>\n",
       "      <td>185444</td>\n",
       "      <td>0.000739</td>\n",
       "      <td>72.674465</td>\n",
       "      <td>53.672521</td>\n",
       "    </tr>\n",
       "  </tbody>\n",
       "</table>\n",
       "</div>"
      ],
      "text/plain": [
       "    upperbound  imps_won  total_spend  clicks  ad_go_through       CTR  \\\n",
       "56         212  116447.0    6250004.0      86         185444  0.000739   \n",
       "\n",
       "         eCPC        CPM  \n",
       "56  72.674465  53.672521  "
      ]
     },
     "execution_count": 809,
     "metadata": {},
     "output_type": "execute_result"
    }
   ],
   "source": [
    "random.ix[(random['clicks']==random['clicks'].max())]"
   ]
  },
  {
   "cell_type": "code",
   "execution_count": 810,
   "metadata": {
    "collapsed": false
   },
   "outputs": [
    {
     "data": {
      "text/html": [
       "<div>\n",
       "<table border=\"1\" class=\"dataframe\">\n",
       "  <thead>\n",
       "    <tr style=\"text-align: right;\">\n",
       "      <th></th>\n",
       "      <th>upperbound</th>\n",
       "      <th>imps_won</th>\n",
       "      <th>total_spend</th>\n",
       "      <th>clicks</th>\n",
       "      <th>ad_go_through</th>\n",
       "      <th>CTR</th>\n",
       "      <th>eCPC</th>\n",
       "      <th>CPM</th>\n",
       "    </tr>\n",
       "  </thead>\n",
       "  <tbody>\n",
       "    <tr>\n",
       "      <th>91</th>\n",
       "      <td>282</td>\n",
       "      <td>102581.0</td>\n",
       "      <td>6250047.0</td>\n",
       "      <td>81</td>\n",
       "      <td>144077</td>\n",
       "      <td>0.00079</td>\n",
       "      <td>77.161074</td>\n",
       "      <td>60.92792</td>\n",
       "    </tr>\n",
       "  </tbody>\n",
       "</table>\n",
       "</div>"
      ],
      "text/plain": [
       "    upperbound  imps_won  total_spend  clicks  ad_go_through      CTR  \\\n",
       "91         282  102581.0    6250047.0      81         144077  0.00079   \n",
       "\n",
       "         eCPC       CPM  \n",
       "91  77.161074  60.92792  "
      ]
     },
     "execution_count": 810,
     "metadata": {},
     "output_type": "execute_result"
    }
   ],
   "source": [
    "random.ix[(random['CTR']==random['CTR'][:].max())]"
   ]
  },
  {
   "cell_type": "code",
   "execution_count": 811,
   "metadata": {
    "collapsed": true
   },
   "outputs": [],
   "source": [
    "df_val_rand = df_validation_original.copy()"
   ]
  },
  {
   "cell_type": "code",
   "execution_count": 812,
   "metadata": {
    "collapsed": true
   },
   "outputs": [],
   "source": [
    "random_list = [randrange(0,168) for i in range(len(df_validation_original))]"
   ]
  },
  {
   "cell_type": "code",
   "execution_count": 813,
   "metadata": {
    "collapsed": true
   },
   "outputs": [],
   "source": [
    "df_val_rand['bidprice'] = random_list"
   ]
  },
  {
   "cell_type": "code",
   "execution_count": 814,
   "metadata": {
    "collapsed": false
   },
   "outputs": [
    {
     "data": {
      "text/html": [
       "<div>\n",
       "<table border=\"1\" class=\"dataframe\">\n",
       "  <thead>\n",
       "    <tr style=\"text-align: right;\">\n",
       "      <th></th>\n",
       "      <th>click</th>\n",
       "      <th>Imps</th>\n",
       "      <th>cost</th>\n",
       "      <th>CPM</th>\n",
       "      <th>CTR</th>\n",
       "      <th>eCPC</th>\n",
       "    </tr>\n",
       "    <tr>\n",
       "      <th>advertiser</th>\n",
       "      <th></th>\n",
       "      <th></th>\n",
       "      <th></th>\n",
       "      <th></th>\n",
       "      <th></th>\n",
       "      <th></th>\n",
       "    </tr>\n",
       "  </thead>\n",
       "  <tbody>\n",
       "    <tr>\n",
       "      <th>1458</th>\n",
       "      <td>11.0</td>\n",
       "      <td>14426</td>\n",
       "      <td>658.0</td>\n",
       "      <td>47.03</td>\n",
       "      <td>0.076%</td>\n",
       "      <td>59.82</td>\n",
       "    </tr>\n",
       "    <tr>\n",
       "      <th>2259</th>\n",
       "      <td>NaN</td>\n",
       "      <td>3222</td>\n",
       "      <td>NaN</td>\n",
       "      <td>43.05</td>\n",
       "      <td>0.0%</td>\n",
       "      <td>NaN</td>\n",
       "    </tr>\n",
       "    <tr>\n",
       "      <th>2261</th>\n",
       "      <td>1.0</td>\n",
       "      <td>2713</td>\n",
       "      <td>51.0</td>\n",
       "      <td>39.38</td>\n",
       "      <td>0.037%</td>\n",
       "      <td>51.00</td>\n",
       "    </tr>\n",
       "    <tr>\n",
       "      <th>2821</th>\n",
       "      <td>2.0</td>\n",
       "      <td>5268</td>\n",
       "      <td>63.0</td>\n",
       "      <td>41.61</td>\n",
       "      <td>0.038%</td>\n",
       "      <td>31.50</td>\n",
       "    </tr>\n",
       "    <tr>\n",
       "      <th>2997</th>\n",
       "      <td>5.0</td>\n",
       "      <td>1514</td>\n",
       "      <td>149.0</td>\n",
       "      <td>33.87</td>\n",
       "      <td>0.33%</td>\n",
       "      <td>29.80</td>\n",
       "    </tr>\n",
       "    <tr>\n",
       "      <th>3358</th>\n",
       "      <td>4.0</td>\n",
       "      <td>6586</td>\n",
       "      <td>368.0</td>\n",
       "      <td>55.06</td>\n",
       "      <td>0.061%</td>\n",
       "      <td>92.00</td>\n",
       "    </tr>\n",
       "    <tr>\n",
       "      <th>3386</th>\n",
       "      <td>5.0</td>\n",
       "      <td>12682</td>\n",
       "      <td>270.0</td>\n",
       "      <td>47.57</td>\n",
       "      <td>0.039%</td>\n",
       "      <td>54.00</td>\n",
       "    </tr>\n",
       "    <tr>\n",
       "      <th>3427</th>\n",
       "      <td>12.0</td>\n",
       "      <td>10858</td>\n",
       "      <td>796.0</td>\n",
       "      <td>52.21</td>\n",
       "      <td>0.111%</td>\n",
       "      <td>66.33</td>\n",
       "    </tr>\n",
       "    <tr>\n",
       "      <th>3476</th>\n",
       "      <td>6.0</td>\n",
       "      <td>8601</td>\n",
       "      <td>317.0</td>\n",
       "      <td>50.18</td>\n",
       "      <td>0.07%</td>\n",
       "      <td>52.83</td>\n",
       "    </tr>\n",
       "  </tbody>\n",
       "</table>\n",
       "</div>"
      ],
      "text/plain": [
       "            click   Imps   cost    CPM     CTR   eCPC\n",
       "advertiser                                           \n",
       "1458         11.0  14426  658.0  47.03  0.076%  59.82\n",
       "2259          NaN   3222    NaN  43.05    0.0%    NaN\n",
       "2261          1.0   2713   51.0  39.38  0.037%  51.00\n",
       "2821          2.0   5268   63.0  41.61  0.038%  31.50\n",
       "2997          5.0   1514  149.0  33.87   0.33%  29.80\n",
       "3358          4.0   6586  368.0  55.06  0.061%  92.00\n",
       "3386          5.0  12682  270.0  47.57  0.039%  54.00\n",
       "3427         12.0  10858  796.0  52.21  0.111%  66.33\n",
       "3476          6.0   8601  317.0  50.18   0.07%  52.83"
      ]
     },
     "execution_count": 814,
     "metadata": {},
     "output_type": "execute_result"
    }
   ],
   "source": [
    "evaluate_result(df_val_rand[:118569])"
   ]
  },
  {
   "cell_type": "markdown",
   "metadata": {},
   "source": [
    "## Linear strategy"
   ]
  },
  {
   "cell_type": "code",
   "execution_count": 816,
   "metadata": {
    "collapsed": true
   },
   "outputs": [],
   "source": [
    "# predbid = basebid * pCTR / avgCTR"
   ]
  },
  {
   "cell_type": "code",
   "execution_count": 817,
   "metadata": {
    "collapsed": true
   },
   "outputs": [],
   "source": [
    "df_val_pctr['advertiser'] = df_validation_original['advertiser']"
   ]
  },
  {
   "cell_type": "code",
   "execution_count": 818,
   "metadata": {
    "collapsed": true
   },
   "outputs": [],
   "source": [
    "def div(data):\n",
    "    return data['pCTR']/all_avgCTR[data['advertiser']]"
   ]
  },
  {
   "cell_type": "code",
   "execution_count": 819,
   "metadata": {
    "collapsed": true
   },
   "outputs": [],
   "source": [
    "df_val_pctr['division'] = df_val_pctr.apply(div,axis=1)"
   ]
  },
  {
   "cell_type": "code",
   "execution_count": 820,
   "metadata": {
    "collapsed": false
   },
   "outputs": [
    {
     "data": {
      "text/plain": [
       "count    299749.000000\n",
       "mean          1.015117\n",
       "std           1.988636\n",
       "min           0.011941\n",
       "25%           0.393051\n",
       "50%           0.686194\n",
       "75%           1.144175\n",
       "max         217.127530\n",
       "Name: division, dtype: float64"
      ]
     },
     "execution_count": 820,
     "metadata": {},
     "output_type": "execute_result"
    }
   ],
   "source": [
    "df_val_pctr['division'].describe()"
   ]
  },
  {
   "cell_type": "code",
   "execution_count": 991,
   "metadata": {
    "collapsed": true
   },
   "outputs": [],
   "source": [
    "def linear_bidding(constant,adv):\n",
    "    ad_go_through = -1\n",
    "    impression = 0.0\n",
    "    clicks = 0\n",
    "    cost = 0.0\n",
    "#     click_cost = 0.0\n",
    "    budget = 25000000\n",
    "    \n",
    "    budget = budget / 4\n",
    "    \n",
    "    for click, pay_price in df_validation_original.ix[(df_validation_original['advertiser']==adv)][['click','payprice']].values:\n",
    "        ad_go_through += 1\n",
    "        if constant[ad_go_through] > pay_price:\n",
    "            impression += 1.0\n",
    "            clicks += click\n",
    "#             if click == 1:\n",
    "#                 click_cost += pay_price\n",
    "            cost += pay_price\n",
    "        if cost >= budget:\n",
    "            break\n",
    "    return impression, clicks, cost, ad_go_through"
   ]
  },
  {
   "cell_type": "code",
   "execution_count": 992,
   "metadata": {
    "collapsed": true
   },
   "outputs": [],
   "source": [
    "bp = {}\n",
    "basebid = {}\n",
    "for adv in df_train['advertiser'].unique():\n",
    "\n",
    "    const = pd.DataFrame()\n",
    "    const['base_bid'] = np.arange(0,302,2)\n",
    "\n",
    "    im = []\n",
    "    clks = []\n",
    "    ct = []\n",
    "#     cc = []\n",
    "    agt = []\n",
    "    for base_bid in const['base_bid']:\n",
    "\n",
    "        bid_price = base_bid * df_val_pctr.ix[(df_val_pctr['advertiser']==adv)]['division']\n",
    "\n",
    "        [imps, clicks, cost, ad_go_through] = linear_bidding(bid_price.reset_index(drop=1),adv)\n",
    "        im.append(imps)\n",
    "        clks.append(clicks)\n",
    "        ct.append(cost)\n",
    "#         cc.append(click_cost)\n",
    "        agt.append(ad_go_through)\n",
    "    const['imps_won'] = im\n",
    "    const['total_spend'] = ct\n",
    "#     const['cost'] = cc\n",
    "    const['clicks'] = clks\n",
    "    const['ad_go_through'] = agt\n",
    "    const['CTR'] = const['clicks']/const['imps_won']\n",
    "    \n",
    "    basebid[adv] = const.ix[(const['clicks']==const['clicks'].max())].reset_index()['base_bid'][0]\n",
    "    bp[adv] = basebid[adv] * df_val_pctr.ix[(df_val_pctr['advertiser']==adv)]['division']"
   ]
  },
  {
   "cell_type": "code",
   "execution_count": 993,
   "metadata": {
    "collapsed": true
   },
   "outputs": [],
   "source": [
    "val_pred_bid_price = pd.concat([bp[1458],bp[3476],bp[3427],bp[3358],bp[2259],bp[2821],bp[3386],bp[2997],bp[2261]]).sort_index()"
   ]
  },
  {
   "cell_type": "code",
   "execution_count": 994,
   "metadata": {
    "collapsed": false
   },
   "outputs": [
    {
     "data": {
      "text/plain": [
       "{1458: 280,\n",
       " 2259: 284,\n",
       " 2261: 248,\n",
       " 2821: 288,\n",
       " 2997: 264,\n",
       " 3358: 296,\n",
       " 3386: 242,\n",
       " 3427: 298,\n",
       " 3476: 272}"
      ]
     },
     "execution_count": 994,
     "metadata": {},
     "output_type": "execute_result"
    }
   ],
   "source": [
    "basebid"
   ]
  },
  {
   "cell_type": "code",
   "execution_count": 995,
   "metadata": {
    "collapsed": true
   },
   "outputs": [],
   "source": [
    "df_val_linear = df_validation_original.copy()"
   ]
  },
  {
   "cell_type": "code",
   "execution_count": 996,
   "metadata": {
    "collapsed": true
   },
   "outputs": [],
   "source": [
    "df_val_linear['bidprice'] = val_pred_bid_price"
   ]
  },
  {
   "cell_type": "code",
   "execution_count": 827,
   "metadata": {
    "collapsed": true
   },
   "outputs": [],
   "source": [
    "ad_go_through = -1\n",
    "impression = 0.0\n",
    "clicks = 0\n",
    "cost = 0.0\n",
    "# click_cost = 0.0\n",
    "budget = 25000 * 1000\n",
    "\n",
    "budget = budget/8\n",
    "\n",
    "for click, pay_price in df_validation_original[['click','payprice']].values:\n",
    "    ad_go_through += 1\n",
    "    if val_pred_bid_price[ad_go_through] > pay_price:\n",
    "        impression += 1.0\n",
    "        clicks += click\n",
    "#         if click == 1:\n",
    "#             click_cost += pay_price\n",
    "        cost += pay_price\n",
    "    if cost >= budget:\n",
    "        break\n",
    "    if ad_go_through == 299749:\n",
    "        break"
   ]
  },
  {
   "cell_type": "code",
   "execution_count": 828,
   "metadata": {
    "collapsed": true
   },
   "outputs": [],
   "source": [
    "linear_report = {}\n",
    "linear_report.update({\"click\":clicks})\n",
    "linear_report.update({\"impression\":impression})\n",
    "linear_report.update({\"ad_go_through\":ad_go_through})\n",
    "linear_report.update({\"Total_spend\":cost})\n",
    "# linear_report.update({\"cost\":click_cost})\n",
    "linear_report.update({\"CTR\":clicks/impression})\n",
    "linear_report.update({\"CPM\":cost/impression})"
   ]
  },
  {
   "cell_type": "code",
   "execution_count": 829,
   "metadata": {
    "collapsed": false
   },
   "outputs": [
    {
     "data": {
      "text/plain": [
       "{'CPM': 66.904022779335889,\n",
       " 'CTR': 0.00098482091245798457,\n",
       " 'Total_spend': 3125020.0,\n",
       " 'ad_go_through': 56205,\n",
       " 'click': 46,\n",
       " 'impression': 46709.0}"
      ]
     },
     "execution_count": 829,
     "metadata": {},
     "output_type": "execute_result"
    }
   ],
   "source": [
    "linear_report"
   ]
  },
  {
   "cell_type": "code",
   "execution_count": 830,
   "metadata": {
    "collapsed": false
   },
   "outputs": [
    {
     "data": {
      "text/html": [
       "<div>\n",
       "<table border=\"1\" class=\"dataframe\">\n",
       "  <thead>\n",
       "    <tr style=\"text-align: right;\">\n",
       "      <th></th>\n",
       "      <th>click</th>\n",
       "      <th>Imps</th>\n",
       "      <th>cost</th>\n",
       "      <th>CPM</th>\n",
       "      <th>CTR</th>\n",
       "      <th>eCPC</th>\n",
       "    </tr>\n",
       "    <tr>\n",
       "      <th>advertiser</th>\n",
       "      <th></th>\n",
       "      <th></th>\n",
       "      <th></th>\n",
       "      <th></th>\n",
       "      <th></th>\n",
       "      <th></th>\n",
       "    </tr>\n",
       "  </thead>\n",
       "  <tbody>\n",
       "    <tr>\n",
       "      <th>1458</th>\n",
       "      <td>13.0</td>\n",
       "      <td>9543</td>\n",
       "      <td>1294.0</td>\n",
       "      <td>58.96</td>\n",
       "      <td>0.136%</td>\n",
       "      <td>99.54</td>\n",
       "    </tr>\n",
       "    <tr>\n",
       "      <th>2259</th>\n",
       "      <td>2.0</td>\n",
       "      <td>1999</td>\n",
       "      <td>316.0</td>\n",
       "      <td>64.67</td>\n",
       "      <td>0.1%</td>\n",
       "      <td>158.00</td>\n",
       "    </tr>\n",
       "    <tr>\n",
       "      <th>2261</th>\n",
       "      <td>NaN</td>\n",
       "      <td>1901</td>\n",
       "      <td>NaN</td>\n",
       "      <td>68.81</td>\n",
       "      <td>0.0%</td>\n",
       "      <td>NaN</td>\n",
       "    </tr>\n",
       "    <tr>\n",
       "      <th>2821</th>\n",
       "      <td>NaN</td>\n",
       "      <td>3728</td>\n",
       "      <td>NaN</td>\n",
       "      <td>72.82</td>\n",
       "      <td>0.0%</td>\n",
       "      <td>NaN</td>\n",
       "    </tr>\n",
       "    <tr>\n",
       "      <th>2997</th>\n",
       "      <td>5.0</td>\n",
       "      <td>976</td>\n",
       "      <td>257.0</td>\n",
       "      <td>52.12</td>\n",
       "      <td>0.512%</td>\n",
       "      <td>51.40</td>\n",
       "    </tr>\n",
       "    <tr>\n",
       "      <th>3358</th>\n",
       "      <td>3.0</td>\n",
       "      <td>5245</td>\n",
       "      <td>210.0</td>\n",
       "      <td>79.98</td>\n",
       "      <td>0.057%</td>\n",
       "      <td>70.00</td>\n",
       "    </tr>\n",
       "    <tr>\n",
       "      <th>3386</th>\n",
       "      <td>3.0</td>\n",
       "      <td>8461</td>\n",
       "      <td>207.0</td>\n",
       "      <td>64.92</td>\n",
       "      <td>0.035%</td>\n",
       "      <td>69.00</td>\n",
       "    </tr>\n",
       "    <tr>\n",
       "      <th>3427</th>\n",
       "      <td>12.0</td>\n",
       "      <td>8021</td>\n",
       "      <td>1241.0</td>\n",
       "      <td>69.94</td>\n",
       "      <td>0.15%</td>\n",
       "      <td>103.42</td>\n",
       "    </tr>\n",
       "    <tr>\n",
       "      <th>3476</th>\n",
       "      <td>6.0</td>\n",
       "      <td>5571</td>\n",
       "      <td>331.0</td>\n",
       "      <td>65.95</td>\n",
       "      <td>0.108%</td>\n",
       "      <td>55.17</td>\n",
       "    </tr>\n",
       "  </tbody>\n",
       "</table>\n",
       "</div>"
      ],
      "text/plain": [
       "            click  Imps    cost    CPM     CTR    eCPC\n",
       "advertiser                                            \n",
       "1458         13.0  9543  1294.0  58.96  0.136%   99.54\n",
       "2259          2.0  1999   316.0  64.67    0.1%  158.00\n",
       "2261          NaN  1901     NaN  68.81    0.0%     NaN\n",
       "2821          NaN  3728     NaN  72.82    0.0%     NaN\n",
       "2997          5.0   976   257.0  52.12  0.512%   51.40\n",
       "3358          3.0  5245   210.0  79.98  0.057%   70.00\n",
       "3386          3.0  8461   207.0  64.92  0.035%   69.00\n",
       "3427         12.0  8021  1241.0  69.94   0.15%  103.42\n",
       "3476          6.0  5571   331.0  65.95  0.108%   55.17"
      ]
     },
     "execution_count": 830,
     "metadata": {},
     "output_type": "execute_result"
    }
   ],
   "source": [
    "evaluate_result(df_val_linear[:54704])"
   ]
  },
  {
   "cell_type": "markdown",
   "metadata": {},
   "source": [
    "## Best Strategy: ORTB"
   ]
  },
  {
   "cell_type": "code",
   "execution_count": 831,
   "metadata": {
    "collapsed": true
   },
   "outputs": [],
   "source": [
    "lambda_range = [1e-10,5e-10,1e-9,5e-9,1e-8,5e-8,1e-7,5e-7,1e-6,5e-6,1e-5,5e-5,1e-4,5e-4,1e-3,5e-3,1e-2,5e-2,1e-1,5e-1]\n",
    "c_range = [20,50,80]\n",
    "\n",
    "ortbbids = []\n",
    "clambda = []\n",
    "\n",
    "for c in c_range:\n",
    "    for lambdas in lambda_range:\n",
    "        clambda.append((c,lambdas))\n",
    "        ortbbid = np.sqrt((c / lambdas * np.asarray(df_val_pctr.pCTR)+ c**2))  - c\n",
    "        ortbbids.append(ortbbid.tolist())"
   ]
  },
  {
   "cell_type": "code",
   "execution_count": 986,
   "metadata": {
    "collapsed": true
   },
   "outputs": [],
   "source": [
    "def ORTB_bidding(bids):\n",
    "    ad_go_through = -1\n",
    "    impression = 0.0\n",
    "    clicks = 0\n",
    "    cost = 0.0\n",
    "    budget = 25000000\n",
    "    \n",
    "    budget = budget / 4\n",
    "    \n",
    "    for click, pay_price in df_validation_original[['click','payprice']].values:\n",
    "        ad_go_through += 1\n",
    "        if bids[ad_go_through] > pay_price:\n",
    "            impression += 1.0\n",
    "            clicks += click\n",
    "\n",
    "            cost += pay_price\n",
    "        if cost >= budget:\n",
    "            break\n",
    "    return impression, clicks, cost, ad_go_through"
   ]
  },
  {
   "cell_type": "code",
   "execution_count": 987,
   "metadata": {
    "collapsed": true
   },
   "outputs": [],
   "source": [
    "ortb = pd.DataFrame()\n",
    "ortb['C,Lambda'] = clambda\n",
    "\n",
    "im = []\n",
    "clks = []\n",
    "ct = []\n",
    "agt = []\n",
    "\n",
    "for bid in ortbbids:\n",
    "    [imps, clicks, cost, ad_go_through] = ORTB_bidding(bid)\n",
    "    im.append(imps)\n",
    "    clks.append(clicks)\n",
    "    ct.append(cost)\n",
    "    agt.append(ad_go_through)"
   ]
  },
  {
   "cell_type": "code",
   "execution_count": 988,
   "metadata": {
    "collapsed": true
   },
   "outputs": [],
   "source": [
    "ortb['imps_won'] = im\n",
    "ortb['total_spend'] = ct\n",
    "ortb['clicks'] = clks\n",
    "ortb['ad_go_through'] = agt\n",
    "ortb['CTR'] = (ortb['clicks']/ortb['imps_won'] * 100).round(4).astype(str) + '%'\n",
    "ortb['CPM'] = (ortb['total_spend']/ortb['imps_won']).round(2)\n",
    "ortb['CPC'] = ((ortb['total_spend']/ortb['clicks'])/1000).round(2)"
   ]
  },
  {
   "cell_type": "code",
   "execution_count": 989,
   "metadata": {
    "collapsed": false
   },
   "outputs": [
    {
     "data": {
      "text/html": [
       "<div>\n",
       "<table border=\"1\" class=\"dataframe\">\n",
       "  <thead>\n",
       "    <tr style=\"text-align: right;\">\n",
       "      <th></th>\n",
       "      <th>C,Lambda</th>\n",
       "      <th>imps_won</th>\n",
       "      <th>total_spend</th>\n",
       "      <th>clicks</th>\n",
       "      <th>ad_go_through</th>\n",
       "      <th>CTR</th>\n",
       "      <th>CPM</th>\n",
       "      <th>CPC</th>\n",
       "    </tr>\n",
       "  </thead>\n",
       "  <tbody>\n",
       "    <tr>\n",
       "      <th>8</th>\n",
       "      <td>(20, 1e-06)</td>\n",
       "      <td>128715.0</td>\n",
       "      <td>6250003.0</td>\n",
       "      <td>95</td>\n",
       "      <td>213574</td>\n",
       "      <td>0.0738%</td>\n",
       "      <td>48.56</td>\n",
       "      <td>65.79</td>\n",
       "    </tr>\n",
       "  </tbody>\n",
       "</table>\n",
       "</div>"
      ],
      "text/plain": [
       "      C,Lambda  imps_won  total_spend  clicks  ad_go_through      CTR    CPM  \\\n",
       "8  (20, 1e-06)  128715.0    6250003.0      95         213574  0.0738%  48.56   \n",
       "\n",
       "     CPC  \n",
       "8  65.79  "
      ]
     },
     "execution_count": 989,
     "metadata": {},
     "output_type": "execute_result"
    }
   ],
   "source": [
    "ortb.iloc[np.where(ortb.clicks == ortb.clicks.max())[0]]"
   ]
  },
  {
   "cell_type": "code",
   "execution_count": 836,
   "metadata": {
    "collapsed": false
   },
   "outputs": [
    {
     "data": {
      "text/plain": [
       "28"
      ]
     },
     "execution_count": 836,
     "metadata": {},
     "output_type": "execute_result"
    }
   ],
   "source": [
    "ortb.iloc[np.where(ortb.clicks == ortb.clicks.max())[0]].index[0]"
   ]
  },
  {
   "cell_type": "code",
   "execution_count": 838,
   "metadata": {
    "collapsed": true
   },
   "outputs": [],
   "source": [
    "df_val_ortb = df_validation_original.copy()"
   ]
  },
  {
   "cell_type": "code",
   "execution_count": null,
   "metadata": {
    "collapsed": true
   },
   "outputs": [],
   "source": []
  }
 ],
 "metadata": {
  "anaconda-cloud": {},
  "kernelspec": {
   "display_name": "Python [conda root]",
   "language": "python",
   "name": "conda-root-py"
  },
  "language_info": {
   "codemirror_mode": {
    "name": "ipython",
    "version": 3
   },
   "file_extension": ".py",
   "mimetype": "text/x-python",
   "name": "python",
   "nbconvert_exporter": "python",
   "pygments_lexer": "ipython3",
   "version": "3.5.2"
  }
 },
 "nbformat": 4,
 "nbformat_minor": 1
}
